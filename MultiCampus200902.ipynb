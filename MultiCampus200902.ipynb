{
 "cells": [
  {
   "cell_type": "code",
   "execution_count": 1,
   "metadata": {},
   "outputs": [],
   "source": [
    "'''\n",
    "컨텐츠(장르, 배우, 예산 등등) 필터링 기반 추천시스템\n",
    "컨텐츠(장르) 기반으로 추천시스템\n",
    "'''\n",
    "import pandas as pd\n",
    "import numpy as np"
   ]
  },
  {
   "cell_type": "code",
   "execution_count": 2,
   "metadata": {},
   "outputs": [
    {
     "name": "stderr",
     "output_type": "stream",
     "text": [
      "C:\\Users\\msi\\Anaconda3\\lib\\site-packages\\IPython\\core\\interactiveshell.py:3051: DtypeWarning: Columns (10) have mixed types. Specify dtype option on import or set low_memory=False.\n",
      "  interactivity=interactivity, compiler=compiler, result=result)\n"
     ]
    }
   ],
   "source": [
    "data=pd.read_csv(\"movies_metadata.csv\")"
   ]
  },
  {
   "cell_type": "code",
   "execution_count": 6,
   "metadata": {},
   "outputs": [
    {
     "name": "stdout",
     "output_type": "stream",
     "text": [
      "(45466, 24)\n"
     ]
    },
    {
     "data": {
      "text/plain": [
       "Index(['adult', 'belongs_to_collection', 'budget', 'genres', 'homepage', 'id',\n",
       "       'imdb_id', 'original_language', 'original_title', 'overview',\n",
       "       'popularity', 'poster_path', 'production_companies',\n",
       "       'production_countries', 'release_date', 'revenue', 'runtime',\n",
       "       'spoken_languages', 'status', 'tagline', 'title', 'video',\n",
       "       'vote_average', 'vote_count'],\n",
       "      dtype='object')"
      ]
     },
     "execution_count": 6,
     "metadata": {},
     "output_type": "execute_result"
    }
   ],
   "source": [
    "print(data.shape)\n",
    "data.head()\n",
    "data.columns"
   ]
  },
  {
   "cell_type": "code",
   "execution_count": 9,
   "metadata": {},
   "outputs": [
    {
     "data": {
      "text/html": [
       "<div>\n",
       "<style scoped>\n",
       "    .dataframe tbody tr th:only-of-type {\n",
       "        vertical-align: middle;\n",
       "    }\n",
       "\n",
       "    .dataframe tbody tr th {\n",
       "        vertical-align: top;\n",
       "    }\n",
       "\n",
       "    .dataframe thead th {\n",
       "        text-align: right;\n",
       "    }\n",
       "</style>\n",
       "<table border=\"1\" class=\"dataframe\">\n",
       "  <thead>\n",
       "    <tr style=\"text-align: right;\">\n",
       "      <th></th>\n",
       "      <th>id</th>\n",
       "      <th>genres</th>\n",
       "      <th>vote_average</th>\n",
       "      <th>vote_count</th>\n",
       "      <th>popularity</th>\n",
       "      <th>title</th>\n",
       "      <th>overview</th>\n",
       "    </tr>\n",
       "  </thead>\n",
       "  <tbody>\n",
       "    <tr>\n",
       "      <th>0</th>\n",
       "      <td>862</td>\n",
       "      <td>[{'id': 16, 'name': 'Animation'}, {'id': 35, '...</td>\n",
       "      <td>7.7</td>\n",
       "      <td>5415.0</td>\n",
       "      <td>21.9469</td>\n",
       "      <td>Toy Story</td>\n",
       "      <td>Led by Woody, Andy's toys live happily in his ...</td>\n",
       "    </tr>\n",
       "    <tr>\n",
       "      <th>1</th>\n",
       "      <td>8844</td>\n",
       "      <td>[{'id': 12, 'name': 'Adventure'}, {'id': 14, '...</td>\n",
       "      <td>6.9</td>\n",
       "      <td>2413.0</td>\n",
       "      <td>17.0155</td>\n",
       "      <td>Jumanji</td>\n",
       "      <td>When siblings Judy and Peter discover an encha...</td>\n",
       "    </tr>\n",
       "    <tr>\n",
       "      <th>2</th>\n",
       "      <td>15602</td>\n",
       "      <td>[{'id': 10749, 'name': 'Romance'}, {'id': 35, ...</td>\n",
       "      <td>6.5</td>\n",
       "      <td>92.0</td>\n",
       "      <td>11.7129</td>\n",
       "      <td>Grumpier Old Men</td>\n",
       "      <td>A family wedding reignites the ancient feud be...</td>\n",
       "    </tr>\n",
       "    <tr>\n",
       "      <th>3</th>\n",
       "      <td>31357</td>\n",
       "      <td>[{'id': 35, 'name': 'Comedy'}, {'id': 18, 'nam...</td>\n",
       "      <td>6.1</td>\n",
       "      <td>34.0</td>\n",
       "      <td>3.85949</td>\n",
       "      <td>Waiting to Exhale</td>\n",
       "      <td>Cheated on, mistreated and stepped on, the wom...</td>\n",
       "    </tr>\n",
       "    <tr>\n",
       "      <th>4</th>\n",
       "      <td>11862</td>\n",
       "      <td>[{'id': 35, 'name': 'Comedy'}]</td>\n",
       "      <td>5.7</td>\n",
       "      <td>173.0</td>\n",
       "      <td>8.38752</td>\n",
       "      <td>Father of the Bride Part II</td>\n",
       "      <td>Just when George Banks has recovered from his ...</td>\n",
       "    </tr>\n",
       "    <tr>\n",
       "      <th>...</th>\n",
       "      <td>...</td>\n",
       "      <td>...</td>\n",
       "      <td>...</td>\n",
       "      <td>...</td>\n",
       "      <td>...</td>\n",
       "      <td>...</td>\n",
       "      <td>...</td>\n",
       "    </tr>\n",
       "    <tr>\n",
       "      <th>45461</th>\n",
       "      <td>439050</td>\n",
       "      <td>[{'id': 18, 'name': 'Drama'}, {'id': 10751, 'n...</td>\n",
       "      <td>4.0</td>\n",
       "      <td>1.0</td>\n",
       "      <td>0.072051</td>\n",
       "      <td>Subdue</td>\n",
       "      <td>Rising and falling between a man and woman.</td>\n",
       "    </tr>\n",
       "    <tr>\n",
       "      <th>45462</th>\n",
       "      <td>111109</td>\n",
       "      <td>[{'id': 18, 'name': 'Drama'}]</td>\n",
       "      <td>9.0</td>\n",
       "      <td>3.0</td>\n",
       "      <td>0.178241</td>\n",
       "      <td>Century of Birthing</td>\n",
       "      <td>An artist struggles to finish his work while a...</td>\n",
       "    </tr>\n",
       "    <tr>\n",
       "      <th>45463</th>\n",
       "      <td>67758</td>\n",
       "      <td>[{'id': 28, 'name': 'Action'}, {'id': 18, 'nam...</td>\n",
       "      <td>3.8</td>\n",
       "      <td>6.0</td>\n",
       "      <td>0.903007</td>\n",
       "      <td>Betrayal</td>\n",
       "      <td>When one of her hits goes wrong, a professiona...</td>\n",
       "    </tr>\n",
       "    <tr>\n",
       "      <th>45464</th>\n",
       "      <td>227506</td>\n",
       "      <td>[]</td>\n",
       "      <td>0.0</td>\n",
       "      <td>0.0</td>\n",
       "      <td>0.003503</td>\n",
       "      <td>Satan Triumphant</td>\n",
       "      <td>In a small town live two brothers, one a minis...</td>\n",
       "    </tr>\n",
       "    <tr>\n",
       "      <th>45465</th>\n",
       "      <td>461257</td>\n",
       "      <td>[]</td>\n",
       "      <td>0.0</td>\n",
       "      <td>0.0</td>\n",
       "      <td>0.163015</td>\n",
       "      <td>Queerama</td>\n",
       "      <td>50 years after decriminalisation of homosexual...</td>\n",
       "    </tr>\n",
       "  </tbody>\n",
       "</table>\n",
       "<p>45466 rows × 7 columns</p>\n",
       "</div>"
      ],
      "text/plain": [
       "           id                                             genres  \\\n",
       "0         862  [{'id': 16, 'name': 'Animation'}, {'id': 35, '...   \n",
       "1        8844  [{'id': 12, 'name': 'Adventure'}, {'id': 14, '...   \n",
       "2       15602  [{'id': 10749, 'name': 'Romance'}, {'id': 35, ...   \n",
       "3       31357  [{'id': 35, 'name': 'Comedy'}, {'id': 18, 'nam...   \n",
       "4       11862                     [{'id': 35, 'name': 'Comedy'}]   \n",
       "...       ...                                                ...   \n",
       "45461  439050  [{'id': 18, 'name': 'Drama'}, {'id': 10751, 'n...   \n",
       "45462  111109                      [{'id': 18, 'name': 'Drama'}]   \n",
       "45463   67758  [{'id': 28, 'name': 'Action'}, {'id': 18, 'nam...   \n",
       "45464  227506                                                 []   \n",
       "45465  461257                                                 []   \n",
       "\n",
       "       vote_average  vote_count popularity                        title  \\\n",
       "0               7.7      5415.0    21.9469                    Toy Story   \n",
       "1               6.9      2413.0    17.0155                      Jumanji   \n",
       "2               6.5        92.0    11.7129             Grumpier Old Men   \n",
       "3               6.1        34.0    3.85949            Waiting to Exhale   \n",
       "4               5.7       173.0    8.38752  Father of the Bride Part II   \n",
       "...             ...         ...        ...                          ...   \n",
       "45461           4.0         1.0   0.072051                       Subdue   \n",
       "45462           9.0         3.0   0.178241          Century of Birthing   \n",
       "45463           3.8         6.0   0.903007                     Betrayal   \n",
       "45464           0.0         0.0   0.003503             Satan Triumphant   \n",
       "45465           0.0         0.0   0.163015                     Queerama   \n",
       "\n",
       "                                                overview  \n",
       "0      Led by Woody, Andy's toys live happily in his ...  \n",
       "1      When siblings Judy and Peter discover an encha...  \n",
       "2      A family wedding reignites the ancient feud be...  \n",
       "3      Cheated on, mistreated and stepped on, the wom...  \n",
       "4      Just when George Banks has recovered from his ...  \n",
       "...                                                  ...  \n",
       "45461        Rising and falling between a man and woman.  \n",
       "45462  An artist struggles to finish his work while a...  \n",
       "45463  When one of her hits goes wrong, a professiona...  \n",
       "45464  In a small town live two brothers, one a minis...  \n",
       "45465  50 years after decriminalisation of homosexual...  \n",
       "\n",
       "[45466 rows x 7 columns]"
      ]
     },
     "execution_count": 9,
     "metadata": {},
     "output_type": "execute_result"
    }
   ],
   "source": [
    "data=data[['id', 'genres', 'vote_average', 'vote_count', 'popularity', 'title', 'overview']]\n",
    "data\n",
    "#R = average for the movie (mean) = (Rating)\n",
    "#v = number of votes for the movie = (votes)\n",
    "#m = minimum votes required to be listed in the Top 250 (currently 25000)\n",
    "#C = the mean vote across the whole report (currently 7.0)"
   ]
  },
  {
   "cell_type": "code",
   "execution_count": 12,
   "metadata": {},
   "outputs": [
    {
     "data": {
      "text/plain": [
       "0.0"
      ]
     },
     "execution_count": 12,
     "metadata": {},
     "output_type": "execute_result"
    }
   ],
   "source": [
    "data['vote_count'].quantile(0.7) # quantile() : 분위 수를 구할 때 사용하는 함수\n",
    "data['vote_count'].max()\n",
    "data['vote_count'].min()"
   ]
  },
  {
   "cell_type": "code",
   "execution_count": 13,
   "metadata": {},
   "outputs": [
    {
     "data": {
      "text/plain": [
       "434.0"
      ]
     },
     "execution_count": 13,
     "metadata": {},
     "output_type": "execute_result"
    }
   ],
   "source": [
    "tmp_m=data['vote_count'].quantile(0.95)\n",
    "tmp_m"
   ]
  },
  {
   "cell_type": "code",
   "execution_count": 19,
   "metadata": {},
   "outputs": [
    {
     "data": {
      "text/plain": [
       "(45466, 7)"
      ]
     },
     "execution_count": 19,
     "metadata": {},
     "output_type": "execute_result"
    }
   ],
   "source": [
    "cdata=data.copy()\n",
    "cdata.shape"
   ]
  },
  {
   "cell_type": "code",
   "execution_count": 20,
   "metadata": {},
   "outputs": [
    {
     "data": {
      "text/html": [
       "<div>\n",
       "<style scoped>\n",
       "    .dataframe tbody tr th:only-of-type {\n",
       "        vertical-align: middle;\n",
       "    }\n",
       "\n",
       "    .dataframe tbody tr th {\n",
       "        vertical-align: top;\n",
       "    }\n",
       "\n",
       "    .dataframe thead th {\n",
       "        text-align: right;\n",
       "    }\n",
       "</style>\n",
       "<table border=\"1\" class=\"dataframe\">\n",
       "  <thead>\n",
       "    <tr style=\"text-align: right;\">\n",
       "      <th></th>\n",
       "      <th>id</th>\n",
       "      <th>genres</th>\n",
       "      <th>vote_average</th>\n",
       "      <th>vote_count</th>\n",
       "      <th>popularity</th>\n",
       "      <th>title</th>\n",
       "      <th>overview</th>\n",
       "    </tr>\n",
       "  </thead>\n",
       "  <tbody>\n",
       "    <tr>\n",
       "      <th>0</th>\n",
       "      <td>862</td>\n",
       "      <td>[{'id': 16, 'name': 'Animation'}, {'id': 35, '...</td>\n",
       "      <td>7.7</td>\n",
       "      <td>5415.0</td>\n",
       "      <td>21.9469</td>\n",
       "      <td>Toy Story</td>\n",
       "      <td>Led by Woody, Andy's toys live happily in his ...</td>\n",
       "    </tr>\n",
       "    <tr>\n",
       "      <th>1</th>\n",
       "      <td>8844</td>\n",
       "      <td>[{'id': 12, 'name': 'Adventure'}, {'id': 14, '...</td>\n",
       "      <td>6.9</td>\n",
       "      <td>2413.0</td>\n",
       "      <td>17.0155</td>\n",
       "      <td>Jumanji</td>\n",
       "      <td>When siblings Judy and Peter discover an encha...</td>\n",
       "    </tr>\n",
       "    <tr>\n",
       "      <th>5</th>\n",
       "      <td>949</td>\n",
       "      <td>[{'id': 28, 'name': 'Action'}, {'id': 80, 'nam...</td>\n",
       "      <td>7.7</td>\n",
       "      <td>1886.0</td>\n",
       "      <td>17.9249</td>\n",
       "      <td>Heat</td>\n",
       "      <td>Obsessive master thief, Neil McCauley leads a ...</td>\n",
       "    </tr>\n",
       "    <tr>\n",
       "      <th>9</th>\n",
       "      <td>710</td>\n",
       "      <td>[{'id': 12, 'name': 'Adventure'}, {'id': 28, '...</td>\n",
       "      <td>6.6</td>\n",
       "      <td>1194.0</td>\n",
       "      <td>14.686</td>\n",
       "      <td>GoldenEye</td>\n",
       "      <td>James Bond must unmask the mysterious head of ...</td>\n",
       "    </tr>\n",
       "    <tr>\n",
       "      <th>15</th>\n",
       "      <td>524</td>\n",
       "      <td>[{'id': 18, 'name': 'Drama'}, {'id': 80, 'name...</td>\n",
       "      <td>7.8</td>\n",
       "      <td>1343.0</td>\n",
       "      <td>10.1374</td>\n",
       "      <td>Casino</td>\n",
       "      <td>The life of the gambling paradise – Las Vegas ...</td>\n",
       "    </tr>\n",
       "    <tr>\n",
       "      <th>...</th>\n",
       "      <td>...</td>\n",
       "      <td>...</td>\n",
       "      <td>...</td>\n",
       "      <td>...</td>\n",
       "      <td>...</td>\n",
       "      <td>...</td>\n",
       "      <td>...</td>\n",
       "    </tr>\n",
       "    <tr>\n",
       "      <th>44624</th>\n",
       "      <td>406990</td>\n",
       "      <td>[{'id': 878, 'name': 'Science Fiction'}, {'id'...</td>\n",
       "      <td>7.3</td>\n",
       "      <td>598.0</td>\n",
       "      <td>60.581223</td>\n",
       "      <td>What Happened to Monday</td>\n",
       "      <td>In a world where families are limited to one c...</td>\n",
       "    </tr>\n",
       "    <tr>\n",
       "      <th>44632</th>\n",
       "      <td>341013</td>\n",
       "      <td>[{'id': 28, 'name': 'Action'}, {'id': 53, 'nam...</td>\n",
       "      <td>6.1</td>\n",
       "      <td>748.0</td>\n",
       "      <td>14.455104</td>\n",
       "      <td>Atomic Blonde</td>\n",
       "      <td>An undercover MI6 agent is sent to Berlin duri...</td>\n",
       "    </tr>\n",
       "    <tr>\n",
       "      <th>44678</th>\n",
       "      <td>374720</td>\n",
       "      <td>[{'id': 28, 'name': 'Action'}, {'id': 18, 'nam...</td>\n",
       "      <td>7.5</td>\n",
       "      <td>2712.0</td>\n",
       "      <td>30.938854</td>\n",
       "      <td>Dunkirk</td>\n",
       "      <td>The miraculous evacuation of Allied soldiers f...</td>\n",
       "    </tr>\n",
       "    <tr>\n",
       "      <th>44842</th>\n",
       "      <td>335988</td>\n",
       "      <td>[{'id': 28, 'name': 'Action'}, {'id': 878, 'na...</td>\n",
       "      <td>6.2</td>\n",
       "      <td>1440.0</td>\n",
       "      <td>39.186819</td>\n",
       "      <td>Transformers: The Last Knight</td>\n",
       "      <td>Autobots and Decepticons are at war, with huma...</td>\n",
       "    </tr>\n",
       "    <tr>\n",
       "      <th>45014</th>\n",
       "      <td>353491</td>\n",
       "      <td>[{'id': 28, 'name': 'Action'}, {'id': 37, 'nam...</td>\n",
       "      <td>5.7</td>\n",
       "      <td>688.0</td>\n",
       "      <td>50.903593</td>\n",
       "      <td>The Dark Tower</td>\n",
       "      <td>The last Gunslinger, Roland Deschain, has been...</td>\n",
       "    </tr>\n",
       "  </tbody>\n",
       "</table>\n",
       "<p>2274 rows × 7 columns</p>\n",
       "</div>"
      ],
      "text/plain": [
       "           id                                             genres  \\\n",
       "0         862  [{'id': 16, 'name': 'Animation'}, {'id': 35, '...   \n",
       "1        8844  [{'id': 12, 'name': 'Adventure'}, {'id': 14, '...   \n",
       "5         949  [{'id': 28, 'name': 'Action'}, {'id': 80, 'nam...   \n",
       "9         710  [{'id': 12, 'name': 'Adventure'}, {'id': 28, '...   \n",
       "15        524  [{'id': 18, 'name': 'Drama'}, {'id': 80, 'name...   \n",
       "...       ...                                                ...   \n",
       "44624  406990  [{'id': 878, 'name': 'Science Fiction'}, {'id'...   \n",
       "44632  341013  [{'id': 28, 'name': 'Action'}, {'id': 53, 'nam...   \n",
       "44678  374720  [{'id': 28, 'name': 'Action'}, {'id': 18, 'nam...   \n",
       "44842  335988  [{'id': 28, 'name': 'Action'}, {'id': 878, 'na...   \n",
       "45014  353491  [{'id': 28, 'name': 'Action'}, {'id': 37, 'nam...   \n",
       "\n",
       "       vote_average  vote_count popularity                          title  \\\n",
       "0               7.7      5415.0    21.9469                      Toy Story   \n",
       "1               6.9      2413.0    17.0155                        Jumanji   \n",
       "5               7.7      1886.0    17.9249                           Heat   \n",
       "9               6.6      1194.0     14.686                      GoldenEye   \n",
       "15              7.8      1343.0    10.1374                         Casino   \n",
       "...             ...         ...        ...                            ...   \n",
       "44624           7.3       598.0  60.581223        What Happened to Monday   \n",
       "44632           6.1       748.0  14.455104                  Atomic Blonde   \n",
       "44678           7.5      2712.0  30.938854                        Dunkirk   \n",
       "44842           6.2      1440.0  39.186819  Transformers: The Last Knight   \n",
       "45014           5.7       688.0  50.903593                 The Dark Tower   \n",
       "\n",
       "                                                overview  \n",
       "0      Led by Woody, Andy's toys live happily in his ...  \n",
       "1      When siblings Judy and Peter discover an encha...  \n",
       "5      Obsessive master thief, Neil McCauley leads a ...  \n",
       "9      James Bond must unmask the mysterious head of ...  \n",
       "15     The life of the gambling paradise – Las Vegas ...  \n",
       "...                                                  ...  \n",
       "44624  In a world where families are limited to one c...  \n",
       "44632  An undercover MI6 agent is sent to Berlin duri...  \n",
       "44678  The miraculous evacuation of Allied soldiers f...  \n",
       "44842  Autobots and Decepticons are at war, with huma...  \n",
       "45014  The last Gunslinger, Roland Deschain, has been...  \n",
       "\n",
       "[2274 rows x 7 columns]"
      ]
     },
     "execution_count": 20,
     "metadata": {},
     "output_type": "execute_result"
    }
   ],
   "source": [
    "tmp_data=cdata[cdata['vote_count']>=tmp_m]\n",
    "tmp_data"
   ]
  },
  {
   "cell_type": "code",
   "execution_count": 23,
   "metadata": {},
   "outputs": [
    {
     "name": "stdout",
     "output_type": "stream",
     "text": [
      "6.605892700087957\n",
      "434.0\n"
     ]
    }
   ],
   "source": [
    "C=tmp_data['vote_average'].mean()\n",
    "M=data['vote_count'].quantile(0.95)\n",
    "print(C)\n",
    "print(M)"
   ]
  },
  {
   "cell_type": "code",
   "execution_count": null,
   "metadata": {},
   "outputs": [],
   "source": [
    "def weighted_rating(x, m=m, c=c):\n",
    "    \n",
    "tdata.apply(weighted_rating, axis)"
   ]
  },
  {
   "cell_type": "code",
   "execution_count": null,
   "metadata": {},
   "outputs": [],
   "source": []
  },
  {
   "cell_type": "code",
   "execution_count": null,
   "metadata": {},
   "outputs": [],
   "source": []
  },
  {
   "cell_type": "code",
   "execution_count": null,
   "metadata": {},
   "outputs": [],
   "source": []
  },
  {
   "cell_type": "code",
   "execution_count": null,
   "metadata": {},
   "outputs": [],
   "source": []
  },
  {
   "cell_type": "code",
   "execution_count": null,
   "metadata": {},
   "outputs": [],
   "source": []
  },
  {
   "cell_type": "code",
   "execution_count": null,
   "metadata": {},
   "outputs": [],
   "source": []
  },
  {
   "cell_type": "code",
   "execution_count": null,
   "metadata": {},
   "outputs": [],
   "source": []
  },
  {
   "cell_type": "code",
   "execution_count": null,
   "metadata": {},
   "outputs": [],
   "source": []
  }
 ],
 "metadata": {
  "kernelspec": {
   "display_name": "Python 3",
   "language": "python",
   "name": "python3"
  },
  "language_info": {
   "codemirror_mode": {
    "name": "ipython",
    "version": 3
   },
   "file_extension": ".py",
   "mimetype": "text/x-python",
   "name": "python",
   "nbconvert_exporter": "python",
   "pygments_lexer": "ipython3",
   "version": "3.7.6"
  }
 },
 "nbformat": 4,
 "nbformat_minor": 2
}
