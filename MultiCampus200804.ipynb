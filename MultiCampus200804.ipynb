{
 "cells": [
  {
   "cell_type": "code",
   "execution_count": 2,
   "metadata": {},
   "outputs": [],
   "source": [
    "import re\n",
    "re.match(\"hello\", \"hello, world\")\n",
    "re.match(\"python\", \"hello, world\")"
   ]
  },
  {
   "cell_type": "code",
   "execution_count": 5,
   "metadata": {},
   "outputs": [
    {
     "data": {
      "text/plain": [
       "<re.Match object; span=(7, 12), match='world'>"
      ]
     },
     "execution_count": 5,
     "metadata": {},
     "output_type": "execute_result"
    }
   ],
   "source": [
    "re.search(\"^hello\", \"hello, world\")\n",
    "re.search(\"hello$\", \"hello, world\")\n",
    "re.search(\"world$\", \"hello, world\")"
   ]
  },
  {
   "cell_type": "code",
   "execution_count": 6,
   "metadata": {},
   "outputs": [
    {
     "data": {
      "text/plain": [
       "<re.Match object; span=(0, 5), match='hello'>"
      ]
     },
     "execution_count": 6,
     "metadata": {},
     "output_type": "execute_result"
    }
   ],
   "source": [
    "re.match(\"hello|world\", \"hello\")"
   ]
  },
  {
   "cell_type": "code",
   "execution_count": 10,
   "metadata": {},
   "outputs": [],
   "source": [
    "jumin=\"\"\"\n",
    "kim 850101-1234567\n",
    "lee 950202-2345678\n",
    "\"\"\""
   ]
  },
  {
   "cell_type": "code",
   "execution_count": 17,
   "metadata": {},
   "outputs": [
    {
     "name": "stdout",
     "output_type": "stream",
     "text": [
      "850101-*******\n",
      "950202-*******\n"
     ]
    }
   ],
   "source": [
    "res=[]\n",
    "for l in jumin.split(\"\\n\"):\n",
    "    for w in l.split(\" \"):\n",
    "        if len(w)==14 and w[7:].isdigit():\n",
    "            print(w[:6]+\"-\"+\"*******\")"
   ]
  },
  {
   "cell_type": "code",
   "execution_count": 19,
   "metadata": {},
   "outputs": [
    {
     "name": "stdout",
     "output_type": "stream",
     "text": [
      "\n",
      "kim 850101-*******\n",
      "lee 950202-*******\n",
      "\n"
     ]
    }
   ],
   "source": [
    "mypat=re.compile(\"(\\d{6})[-]\\d{7}\")\n",
    "print(mypat.sub(\"\\g<1>-*******\", jumin))"
   ]
  },
  {
   "cell_type": "code",
   "execution_count": 20,
   "metadata": {},
   "outputs": [],
   "source": [
    "pat=re.compile(\"[a-z]+\")"
   ]
  },
  {
   "cell_type": "code",
   "execution_count": 27,
   "metadata": {},
   "outputs": [
    {
     "name": "stdout",
     "output_type": "stream",
     "text": [
      "<re.Match object; span=(0, 4), match='test'>\n",
      "None\n",
      "<re.Match object; span=(0, 4), match='test'>\n"
     ]
    }
   ],
   "source": [
    "print(pat.match(\"test\")) # 매치o\n",
    "print(pat.match(\"1test\")) # 매치x : 첫번째 문자부터 매치가 되지 않으면 다음 문자 확인 의미 x\n",
    "print(pat.match(\"test1\"))"
   ]
  },
  {
   "cell_type": "code",
   "execution_count": 26,
   "metadata": {},
   "outputs": [
    {
     "name": "stdout",
     "output_type": "stream",
     "text": [
      "매치안됨\n"
     ]
    }
   ],
   "source": [
    "if pat.match(\"1test\"):\n",
    "    print(\"매치됨\")\n",
    "else:\n",
    "    print(\"매치안됨\")"
   ]
  },
  {
   "cell_type": "code",
   "execution_count": 32,
   "metadata": {},
   "outputs": [
    {
     "name": "stdout",
     "output_type": "stream",
     "text": [
      "<re.Match object; span=(1, 5), match='test'>\n",
      "<re.Match object; span=(0, 4), match='test'>\n",
      "<re.Match object; span=(0, 2), match='te'>\n",
      "<re.Match object; span=(0, 2), match='te'>\n",
      "<re.Match object; span=(1, 5), match='test'>\n",
      "['test', 'test', 'test']\n"
     ]
    }
   ],
   "source": [
    "print(pat.search(\"1test\"))\n",
    "print(pat.search(\"test1\"))\n",
    "print(pat.search(\"te1st\"))     \n",
    "print(pat.match(\"te1st\"))\n",
    "print(pat.search(\"1test 2test 3test\"))\n",
    "print(pat.findall(\"1test 2test 3test\"))"
   ]
  },
  {
   "cell_type": "code",
   "execution_count": 33,
   "metadata": {},
   "outputs": [
    {
     "name": "stdout",
     "output_type": "stream",
     "text": [
      "<re.Match object; span=(1, 5), match='test'>\n",
      "<re.Match object; span=(7, 11), match='test'>\n",
      "<re.Match object; span=(13, 17), match='test'>\n"
     ]
    }
   ],
   "source": [
    "res=pat.finditer(\"1test 2test 3test\")\n",
    "for r in res:\n",
    "    print(r)"
   ]
  },
  {
   "cell_type": "code",
   "execution_count": 37,
   "metadata": {},
   "outputs": [],
   "source": [
    "#pat=[a-z]+\n",
    "res=pat.match(\"mypython\")"
   ]
  },
  {
   "cell_type": "code",
   "execution_count": 45,
   "metadata": {},
   "outputs": [
    {
     "name": "stdout",
     "output_type": "stream",
     "text": [
      "mypython\n",
      "0\n",
      "8\n",
      "(0, 8)\n"
     ]
    }
   ],
   "source": [
    "print(res.group())\n",
    "print(res.start())\n",
    "print(res.end())\n",
    "print(res.span())"
   ]
  },
  {
   "cell_type": "code",
   "execution_count": 46,
   "metadata": {},
   "outputs": [
    {
     "name": "stdout",
     "output_type": "stream",
     "text": [
      "mypython\n",
      "2\n",
      "10\n",
      "(2, 10)\n"
     ]
    }
   ],
   "source": [
    "res2=pat.search(\"7 mypython\")\n",
    "print(res2.group())\n",
    "print(res2.start())\n",
    "print(res2.end())\n",
    "print(res2.span())"
   ]
  },
  {
   "cell_type": "code",
   "execution_count": 51,
   "metadata": {},
   "outputs": [
    {
     "name": "stdout",
     "output_type": "stream",
     "text": [
      "<re.Match object; span=(0, 1), match='1'>\n",
      "<re.Match object; span=(0, 4), match='1234'>\n",
      "<re.Match object; span=(0, 4), match='1234'>\n",
      "None\n"
     ]
    }
   ],
   "source": [
    "print(re.match(\"[0-9]\", \"1234\")) #1개만 매치o\n",
    "print(re.match(\"[0-9]*\", \"1234\")) # * : 0개 이상 매치o\n",
    "print(re.match(\"[0-9]+\", \"1234\"))\n",
    "print(re.match(\"[0-9]\", \"abc\"))"
   ]
  },
  {
   "cell_type": "code",
   "execution_count": 58,
   "metadata": {},
   "outputs": [
    {
     "name": "stdout",
     "output_type": "stream",
     "text": [
      "None\n",
      "<re.Match object; span=(0, 1), match='b'>\n",
      "None\n",
      "<re.Match object; span=(0, 2), match='ab'>\n",
      "<re.Match object; span=(0, 2), match='ab'>\n",
      "<re.Match object; span=(0, 11), match='aaaaaaaaaab'>\n"
     ]
    }
   ],
   "source": [
    "print(re.match(\"a*b\", \"a\")) # b가 있어야 함\n",
    "print(re.match(\"a*b\", \"b\"))\n",
    "print(re.match(\"a+b\", \"b\"))\n",
    "print(re.match(\"a*b\", \"ab\"))\n",
    "print(re.match(\"a+b\", \"ab\"))\n",
    "print(re.match(\"a*b\", \"aaaaaaaaaab\"))"
   ]
  },
  {
   "cell_type": "code",
   "execution_count": 69,
   "metadata": {},
   "outputs": [
    {
     "name": "stdout",
     "output_type": "stream",
     "text": [
      "<re.Match object; span=(0, 3), match='abd'>\n",
      "<re.Match object; span=(0, 4), match='abcd'>\n",
      "None\n",
      "None\n",
      "<re.Match object; span=(0, 4), match='ab2c'>\n",
      "None\n",
      "<re.Match object; span=(0, 3), match='abc'>\n",
      "<re.Match object; span=(0, 4), match='ab2c'>\n",
      "None\n",
      "<re.Match object; span=(0, 4), match='ab1c'>\n"
     ]
    }
   ],
   "source": [
    "print(re.match(\"abc?d\", \"abd\"))\n",
    "print(re.match(\"abc?d\", \"abcd\"))\n",
    "print(re.match(\"abc?d\", \"abccd\"))\n",
    "print(re.match(\"ab[0-9]c\", \"abc\"))\n",
    "print(re.match(\"ab[0-9]c\", \"ab2c\"))\n",
    "print(re.match(\"ab[0-9]c\", \"ab12c\"))\n",
    "print(re.match(\"ab[0-9]?c\", \"abc\"))\n",
    "print(re.match(\"ab[0-9]?c\", \"ab2c\"))\n",
    "print(re.match(\"ab.c\", \"abc\"))\n",
    "print(re.match(\"ab.c\", \"ab1c\"))"
   ]
  },
  {
   "cell_type": "code",
   "execution_count": 77,
   "metadata": {},
   "outputs": [
    {
     "name": "stdout",
     "output_type": "stream",
     "text": [
      "<re.Match object; span=(0, 3), match='hhh'>\n",
      "<re.Match object; span=(0, 3), match='hhh'>\n",
      "None\n",
      "<re.Match object; span=(0, 3), match='hhh'>\n",
      "None\n",
      "<re.Match object; span=(0, 2), match='hi'>\n",
      "<re.Match object; span=(0, 6), match='hihihi'>\n",
      "None\n"
     ]
    }
   ],
   "source": [
    "print(re.match(\"h{3}\", \"hhh\"))\n",
    "print(re.match(\"h{3}\", \"hhhkkk\"))\n",
    "print(re.match(\"h{3}\", \"kkkhhh\"))\n",
    "print(re.match(\"h{3}\", \"hhhhkk\"))\n",
    "print(re.match(\"(hi)\", \"hello hi\"))\n",
    "print(re.match(\"(hi)\", \"hi hello\"))\n",
    "print(re.match(\"(hi){3}\", \"hihihihi hello hi\"))\n",
    "print(re.match(\"(hi){3}\", \"hihihello hi\"))"
   ]
  },
  {
   "cell_type": "code",
   "execution_count": 79,
   "metadata": {},
   "outputs": [
    {
     "name": "stdout",
     "output_type": "stream",
     "text": [
      "<re.Match object; span=(0, 13), match='010-1234-5678'>\n",
      "None\n",
      "None\n",
      "<re.Match object; span=(0, 13), match='010-1234-5678'>\n",
      "None\n"
     ]
    }
   ],
   "source": [
    "print(re.match(\"[0-9]{3}(-)[0-9]{4}(-)[0-9]{4}\", \"010-1234-5678\"))\n",
    "print(re.match(\"[0-9]{3}(-)[0-9]{4}(-)[0-9]{4}\", \"010-12345-5678\"))\n",
    "print(re.match(\"[0-9]{3}(-)[0-9]{4}(-)[0-9]{4}\", \"02-1234-5678\"))\n",
    "print(re.match(\"[0-9]{3}(-)[0-9]{4}(-)[0-9]{4}\", \"010-1234-56789\"))\n",
    "print(re.match(\"[0-9]{3}(-)[0-9]{4}(-)[0-9]{4}\", \"0101234-5678\"))"
   ]
  },
  {
   "cell_type": "code",
   "execution_count": 83,
   "metadata": {},
   "outputs": [
    {
     "name": "stdout",
     "output_type": "stream",
     "text": [
      "<re.Match object; span=(0, 13), match='010-1234-5678'>\n",
      "<re.Match object; span=(0, 11), match='02-123-5678'>\n"
     ]
    }
   ],
   "source": [
    "print(re.match(\"[0-9]{2,3}(-)[0-9]{3,4}(-)[0-9]{4}\", \"010-1234-5678\")) # 2or3자리-3or4자리-4자리\n",
    "print(re.match(\"[0-9]{2,3}(-)[0-9]{3,4}(-)[0-9]{4}\", \"02-123-5678\"))"
   ]
  },
  {
   "cell_type": "code",
   "execution_count": 89,
   "metadata": {},
   "outputs": [
    {
     "name": "stdout",
     "output_type": "stream",
     "text": [
      "<re.Match object; span=(0, 9), match='Hello1234'>\n",
      "<re.Match object; span=(0, 9), match='Hello1234'>\n",
      "<re.Match object; span=(0, 9), match='Hello1234'>\n",
      "<re.Match object; span=(0, 9), match='Hello1234'>\n"
     ]
    }
   ],
   "source": [
    "print(re.match(\"[a-zA-Z0-9]{9}\", \"Hello1234\"))\n",
    "print(re.match(\".{9}\", \"Hello1234\"))\n",
    "print(re.match(\"[a-zA-Z0-9]*\", \"Hello1234\"))\n",
    "print(re.match(\".*\", \"Hello1234\"))"
   ]
  },
  {
   "cell_type": "code",
   "execution_count": 93,
   "metadata": {},
   "outputs": [
    {
     "name": "stdout",
     "output_type": "stream",
     "text": [
      "<re.Match object; span=(0, 1), match='H'>\n",
      "None\n",
      "<re.Match object; span=(1, 5), match='ello'>\n"
     ]
    }
   ],
   "source": [
    "print(re.match(\"[A-Z]+\", \"Hello\"))\n",
    "print(re.match(\"[^A-Z]+\", \"Hello\"))\n",
    "print(re.search(\"[^A-Z]+\", \"Hello\"))"
   ]
  },
  {
   "cell_type": "code",
   "execution_count": 98,
   "metadata": {},
   "outputs": [
    {
     "name": "stdout",
     "output_type": "stream",
     "text": [
      "<re.Match object; span=(0, 1), match='H'>\n",
      "<re.Match object; span=(0, 1), match='H'>\n",
      "<re.Match object; span=(2, 5), match='123'>\n",
      "None\n"
     ]
    }
   ],
   "source": [
    "print(re.search(\"[A-Z]+\", \"Hello\")) # [^ ] : not 패턴식\n",
    "print(re.search(\"^[A-Z]+\", \"Hello\")) # ^[] : ~으로 시작할때는\n",
    "print(re.search(\"[0-9]+$\", \"Hi123\")) # []$ : ~으로 끝나는\n",
    "print(re.search(\"[0-9]+$\", \"Hi123hello\")) # []$ : ~으로 끝나는"
   ]
  },
  {
   "cell_type": "code",
   "execution_count": 103,
   "metadata": {},
   "outputs": [
    {
     "name": "stdout",
     "output_type": "stream",
     "text": [
      "<re.Match object; span=(2, 4), match='**'>\n"
     ]
    }
   ],
   "source": [
    "print(re.search(\"\\*+\", \"1 ** 2\"))"
   ]
  },
  {
   "cell_type": "code",
   "execution_count": 113,
   "metadata": {},
   "outputs": [
    {
     "name": "stdout",
     "output_type": "stream",
     "text": [
      "<re.Match object; span=(0, 7), match='$(test)'>\n",
      "<re.Match object; span=(0, 4), match='1234'>\n",
      "None\n",
      "<re.Match object; span=(0, 8), match='Hi Hello'>\n",
      "<re.Match object; span=(0, 10), match='Hello_1234'>\n",
      "None\n"
     ]
    }
   ],
   "source": [
    "print(re.match(\"[$()a-z]+\", \"$(test)\"))\n",
    "print(re.match(\"\\d+\", \"1234\")) # \\d : 숫자 매치\n",
    "print(re.match(\"\\D+\", \"1234\")) # \\D : 숫자를 제외한 모든것과 매치\n",
    "print(re.match(\"\\D+\", \"Hi Hello\"))\n",
    "print(re.match(\"\\w+\", \"Hello_1234\")) # \\w : 문자, 숫자, _ 매치\n",
    "print(re.match(\"\\W+\", \"Hello_1234\"))"
   ]
  },
  {
   "cell_type": "code",
   "execution_count": 117,
   "metadata": {},
   "outputs": [
    {
     "name": "stdout",
     "output_type": "stream",
     "text": [
      "<re.Match object; span=(0, 5), match='Hello'>\n",
      "<re.Match object; span=(0, 10), match='Hello 1234'>\n",
      "<re.Match object; span=(0, 10), match='Hello 1234'>\n"
     ]
    }
   ],
   "source": [
    "print(re.match(\"[a-zA-Z0-9]+\", \"Hello 1234\"))\n",
    "print(re.match(\"[a-zA-Z0-9 ]+\", \"Hello 1234\"))\n",
    "print(re.match(\"[a-zA-Z0-9\\s]+\", \"Hello 1234\")) # \\s : 공백, 엔터, Tab"
   ]
  },
  {
   "cell_type": "code",
   "execution_count": 131,
   "metadata": {},
   "outputs": [
    {
     "name": "stdout",
     "output_type": "stream",
     "text": [
      "123 456\n",
      "123\n",
      "456\n",
      "<class 'str'>\n",
      "('123', '456')\n",
      "123\n",
      "456\n",
      "<class 'tuple'>\n"
     ]
    }
   ],
   "source": [
    "res=re.match(\"([0-9]+) ([0-9]+)\", \"123 456\")\n",
    "print(res.group())\n",
    "print(res.group(1))\n",
    "print(res.group(2))\n",
    "print(type(res.group()))\n",
    "print(res.groups()) # 튜플 형식으로 반환\n",
    "print(res.groups()[0])\n",
    "print(res.groups()[1])\n",
    "print(type(res.groups()))"
   ]
  },
  {
   "cell_type": "code",
   "execution_count": 154,
   "metadata": {},
   "outputs": [
    {
     "name": "stdout",
     "output_type": "stream",
     "text": [
      "<re.Match object; span=(0, 10), match='print(123)'>\n",
      "<re.Match object; span=(0, 13), match='print777(abc)'>\n",
      "<re.Match object; span=(0, 13), match='print888(100)'>\n",
      "<re.Match object; span=(0, 11), match='Print33(10)'>\n",
      "None\n",
      "print\n",
      "123\n",
      "('print', '123')\n"
     ]
    },
    {
     "data": {
      "text/plain": [
       "'123'"
      ]
     },
     "execution_count": 154,
     "metadata": {},
     "output_type": "execute_result"
    }
   ],
   "source": [
    "print(re.match(\"([a-zA-Z_]{1}\\w*)[(](\\w+)[)]\", \"print(123)\")) # 주어진 문자열이 함수 호출 구문 형식에 맞는지 확인 패턴식 정의\n",
    "# 모든 함수명은 영문자 or _ 로 시작해야하고, 반드시 소괄호의 쌍이 등장해야한다.\n",
    "print(re.match(\"[a-zA-Z_]{1}\\w*[(]\\w+[)]\", \"print777(abc)\"))\n",
    "print(re.match(\"[a-zA-Z_]{1}\\w*[(]\\w+[)]\", \"print888(100)\"))\n",
    "print(re.match(\"[a-zA-Z_]{1}\\w*[(]\\w+[)]\", \"Print33(10)\"))\n",
    "print(re.match(\"[a-zA-Z_]{1}\\w*[(]\\w+[)]\", \"2print777(abc)\"))\n",
    "res=re.match(\"([a-zA-Z_]{1}\\w*)[(](\\w+)[)]\", \"print(123)\")\n",
    "print(res.group(1))\n",
    "print(res.group(2))\n",
    "print(res.groups())\n",
    "# 그룹 이름을 정의하는 형식 -> (?P<그룹명> )\n",
    "res=re.match(\"(?P<fn>[a-zA-Z_]{1}\\w*)[(](?P<arg>\\w+)[)]\", \"print(123)\")\n",
    "res.group('fn')\n",
    "res.group('arg')"
   ]
  },
  {
   "cell_type": "code",
   "execution_count": 156,
   "metadata": {},
   "outputs": [
    {
     "name": "stdout",
     "output_type": "stream",
     "text": [
      "['1', '2', '4', '5', '7', '8']\n"
     ]
    }
   ],
   "source": [
    "print(re.findall(\"[0-9]+\", \"1 2 three 4 5 six 7 8 nine\"))"
   ]
  },
  {
   "cell_type": "code",
   "execution_count": 160,
   "metadata": {},
   "outputs": [
    {
     "name": "stdout",
     "output_type": "stream",
     "text": [
      "대한민국 대한민국 대한민국 대한민국 대한민국\n",
      "크롤링한 전체 원문\n",
      "크롤링한 전체 원문\n"
     ]
    }
   ],
   "source": [
    "# 우리나라, 한국, 대한민국, 남한, 코리아 => 같은 의미의 단어들을 하나의 단어로 통일해줘야 함!\n",
    "print(re.sub(\"대한민국|한국|남한|코리아|우리나라\", \"대한민국\", \"대한민국 한국 코리아 남한 우리나라\"))\n",
    "print(re.sub(\"대한민국|한국|남한|코리아|우리나라\", \"대한민국\", \"크롤링한 전체 원문\"))\n",
    "print(re.sub(\"am|are|is|was|were\", \"be\", \"크롤링한 전체 원문\"))"
   ]
  },
  {
   "cell_type": "code",
   "execution_count": 173,
   "metadata": {},
   "outputs": [
    {
     "name": "stdout",
     "output_type": "stream",
     "text": [
      "su su three su su su seven\n",
      "10 20 three 40 500 6000 seven\n"
     ]
    }
   ],
   "source": [
    "print(re.sub(\"[0-9]+\", \"su\", \"1 2 three 4 50 600 seven\"))\n",
    "def mul10(arg):# arg에는 매치된 객체가 전달됨\n",
    "    res=int(arg.group())*10\n",
    "    return str(res)\n",
    "print(re.sub(\"[0-9]+\", mul10, \"1 2 three 4 50 600 seven\"))"
   ]
  }
 ],
 "metadata": {
  "kernelspec": {
   "display_name": "Python 3",
   "language": "python",
   "name": "python3"
  },
  "language_info": {
   "codemirror_mode": {
    "name": "ipython",
    "version": 3
   },
   "file_extension": ".py",
   "mimetype": "text/x-python",
   "name": "python",
   "nbconvert_exporter": "python",
   "pygments_lexer": "ipython3",
   "version": "3.8.3"
  }
 },
 "nbformat": 4,
 "nbformat_minor": 4
}
