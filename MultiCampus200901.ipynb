{
 "cells": [
  {
   "cell_type": "code",
   "execution_count": 1,
   "metadata": {},
   "outputs": [],
   "source": [
    "import matplotlib.pyplot as plt\n",
    "import pandas as pd\n",
    "import numpy as np"
   ]
  },
  {
   "cell_type": "code",
   "execution_count": 2,
   "metadata": {},
   "outputs": [],
   "source": [
    "critics = {\n",
    "\n",
    "    '레드벨벳': {\n",
    "\n",
    "        '택시운전사': 2.5,\n",
    "\n",
    "        '겨울왕국': 3.5,\n",
    "\n",
    "        '리빙라스베가스': 3.0,\n",
    "\n",
    "        '넘버3': 3.5,\n",
    "\n",
    "        '사랑과전쟁': 2.5,\n",
    "\n",
    "        '세계대전': 3.0,\n",
    "\n",
    "    },\n",
    "\n",
    "    'BTS': {\n",
    "\n",
    "        '택시운전사': 1.0,\n",
    "\n",
    "        '겨울왕국': 4.5,\n",
    "\n",
    "        '리빙라스베가스': 0.5,\n",
    "\n",
    "        '넘버3': 1.5,\n",
    "\n",
    "        '사랑과전쟁': 4.5,\n",
    "\n",
    "        '세계대전': 5.0,\n",
    "\n",
    "    },\n",
    "\n",
    "    '블랙핑크': {\n",
    "\n",
    "        '택시운전사': 3.0,\n",
    "\n",
    "        '겨울왕국': 3.5,\n",
    "\n",
    "        '리빙라스베가스': 1.5,\n",
    "\n",
    "        '넘버3': 5.0,\n",
    "\n",
    "        '세계대전': 3.0,\n",
    "\n",
    "        '사랑과전쟁': 3.5,\n",
    "\n",
    "    },\n",
    "\n",
    "    '소녀시대': {\n",
    "\n",
    "        '택시운전사': 2.5,\n",
    "\n",
    "        '겨울왕국': 3.0,\n",
    "\n",
    "        '넘버3': 3.5,\n",
    "\n",
    "        '세계대전': 4.0,\n",
    "\n",
    "    },\n",
    "\n",
    "    '마마무': {\n",
    "\n",
    "        '겨울왕국': 3.5,\n",
    "\n",
    "        '리빙라스베가스': 3.0,\n",
    "\n",
    "        '세계대전': 4.5,\n",
    "\n",
    "        '넘버3': 4.0,\n",
    "\n",
    "        '사랑과전쟁': 2.5,\n",
    "\n",
    "    },\n",
    "\n",
    "    '오마이걸': {\n",
    "\n",
    "        '택시운전사': 3.0,\n",
    "\n",
    "        '겨울왕국': 4.0,\n",
    "\n",
    "        '리빙라스베가스': 2.0,\n",
    "\n",
    "        '넘버3': 3.0,\n",
    "\n",
    "        '세계대전': 3.5,\n",
    "\n",
    "        '사랑과전쟁': 2.0,\n",
    "\n",
    "    },\n",
    "\n",
    "    '모모랜드': {\n",
    "\n",
    "        '택시운전사': 3.0,\n",
    "\n",
    "        '겨울왕국': 4.0,\n",
    "\n",
    "        '세계대전': 3.0,\n",
    "\n",
    "        '넘버3': 5.0,\n",
    "\n",
    "        '사랑과전쟁': 3.5,\n",
    "\n",
    "    },\n",
    "\n",
    "    '우주소녀': {'겨울왕국': 4.5, '사랑과전쟁': 1.0,\n",
    "\n",
    "             '넘버3': 4.0},\n",
    "\n",
    "}"
   ]
  },
  {
   "cell_type": "code",
   "execution_count": 5,
   "metadata": {},
   "outputs": [],
   "source": [
    "from math import sqrt"
   ]
  },
  {
   "cell_type": "code",
   "execution_count": 36,
   "metadata": {
    "scrolled": true
   },
   "outputs": [
    {
     "data": {
      "text/plain": [
       "0.3405424265831667"
      ]
     },
     "execution_count": 36,
     "metadata": {},
     "output_type": "execute_result"
    }
   ],
   "source": [
    "def simDistance(data, name1, name2):\n",
    "    sum=0\n",
    "    for i in data[name1]:\n",
    "        if i in data[name2]:\n",
    "            sum+=pow(data[name1][i]-data[name2][i], 2)\n",
    "    #print(sqrt(sum)) # 소녀시대와 블랙핑크 유클리디안 거리\n",
    "    return 1/(sqrt(sum)+1) # 소녀시대와 블랙핑크 유사도\n",
    "        #print(i)\n",
    "    #data[name2]\n",
    "simDistance(critics, '소녀시대', '블랙핑크')"
   ]
  },
  {
   "cell_type": "code",
   "execution_count": 29,
   "metadata": {},
   "outputs": [
    {
     "name": "stdout",
     "output_type": "stream",
     "text": [
      "[(0.5358983848622454, '마마무'), (0.4721359549995794, '레드벨벳'), (0.43050087404306037, '오마이걸')]\n"
     ]
    }
   ],
   "source": [
    "def topMatch(data, name, index=3):\n",
    "    # 리스트 변수 초기화\n",
    "    # 소녀시대와 나머지 그룹간 유사도를 모두 구하고 저장(유사도, 이름)한다(리스트)\n",
    "    # 유사도를 기준으로 정렬(내림차순) -> 이름 출력\n",
    "    dist=[]\n",
    "    for i in data:\n",
    "        #print(i)\n",
    "        sum=0\n",
    "        for j in data[i]:\n",
    "            if j != '소녀시대':\n",
    "                if j in data['소녀시대']:\n",
    "                    #print(j)\n",
    "                    sum+=pow(data['소녀시대'][j]-data[i][j], 2)\n",
    "        dist.append((1/(sqrt(sum)+1), i))\n",
    "    dist.sort(reverse=True)\n",
    "    #print(dist)\n",
    "    print(dist[1:4])\n",
    "topMatch(critics, '소녀시대')"
   ]
  },
  {
   "cell_type": "code",
   "execution_count": 42,
   "metadata": {},
   "outputs": [
    {
     "data": {
      "text/plain": [
       "[(0.5358983848622454, '마마무'),\n",
       " (0.4721359549995794, '레드벨벳'),\n",
       " (0.43050087404306037, '오마이걸')]"
      ]
     },
     "execution_count": 42,
     "metadata": {},
     "output_type": "execute_result"
    }
   ],
   "source": [
    "def topMatch(data, name, index=3, simFunc=simDistance):\n",
    "    res=[]\n",
    "    for i in data:\n",
    "        if i!=name:\n",
    "            res.append((simFunc(data, name, i),i))\n",
    "    res.sort()\n",
    "    res.reverse()\n",
    "    return res[:index]\n",
    "topMatch(critics, '소녀시대')"
   ]
  },
  {
   "cell_type": "code",
   "execution_count": 43,
   "metadata": {},
   "outputs": [],
   "source": [
    "res=topMatch(critics, '소녀시대')"
   ]
  },
  {
   "cell_type": "code",
   "execution_count": 44,
   "metadata": {},
   "outputs": [],
   "source": [
    "score=[]\n",
    "names=[]\n",
    "for i in res:\n",
    "    score.append(i[0])\n",
    "    names.append(i[1])"
   ]
  },
  {
   "cell_type": "code",
   "execution_count": 48,
   "metadata": {},
   "outputs": [],
   "source": [
    "import matplotlib\n",
    "from matplotlib import font_manager, rc\n",
    "import platform\n",
    "if platform.system()==\"Windows\":\n",
    "    font_name=font_manager.FontProperties(fname=\"c:/Windows/Fonts/malgun.ttf\").get_name()\n",
    "    rc('font', family=font_name)\n",
    "matplotlib.rcParams['axes.unicode_minus']=False\n",
    "\n",
    "import warnings\n",
    "warnings.filterwarnings(\"ignore\")"
   ]
  },
  {
   "cell_type": "code",
   "execution_count": 52,
   "metadata": {},
   "outputs": [
    {
     "data": {
      "image/png": "[encoded data removed]",
      "text/plain": [
       "<Figure size 432x288 with 1 Axes>"
      ]
     },
     "metadata": {
      "needs_background": "light"
     },
     "output_type": "display_data"
    }
   ],
   "source": [
    "def myBarChart(data, name):\n",
    "    pos=range(len(data))\n",
    "    plt.barh(pos, data)\n",
    "    plt.yticks(pos, name)\n",
    "    plt.xlabel(\"소녀시대와의 유사도\")\n",
    "    plt.ylabel(\"관람자\")\n",
    "    plt.show()\n",
    "myBarChart(score, names)"
   ]
  },
  {
   "cell_type": "code",
   "execution_count": 59,
   "metadata": {},
   "outputs": [
    {
     "data": {
      "text/plain": [
       "(0.0, 5.0, 0.0, 5.0)"
      ]
     },
     "execution_count": 59,
     "metadata": {},
     "output_type": "execute_result"
    },
    {
     "data": {
      "image/png": "[encoded data removed]",
      "text/plain": [
       "<Figure size 1008x576 with 1 Axes>"
      ]
     },
     "metadata": {
      "needs_background": "light"
     },
     "output_type": "display_data"
    }
   ],
   "source": [
    "plt.figure(figsize=(14,8))\n",
    "plt.plot([1,2,3], [1,2,3], 'g^')\n",
    "plt.text(1,1,'apple')\n",
    "plt.text(2,2,'banana')\n",
    "plt.text(3,3,'grape')\n",
    "plt.axis([0,5,0,5])"
   ]
  },
  {
   "cell_type": "code",
   "execution_count": 67,
   "metadata": {},
   "outputs": [
    {
     "data": {
      "image/png": "[encoded data removed]",
      "text/plain": [
       "<Figure size 1008x576 with 1 Axes>"
      ]
     },
     "metadata": {
      "needs_background": "light"
     },
     "output_type": "display_data"
    }
   ],
   "source": [
    "def drawGraph(critics, name1, name2):\n",
    "    myList1=[]\n",
    "    myList2=[]\n",
    "    plt.figure(figsize=(14, 8))\n",
    "    for i in critics[name1]:\n",
    "        if i in critics[name2]:\n",
    "            myList1.append(critics[name1][i])\n",
    "            myList2.append(critics[name2][i])\n",
    "            plt.text(critics[name1][i], critics[name2][i], i)\n",
    "    plt.plot(myList1, myList2, 'ro')\n",
    "    plt.axis([0,6,0,6])\n",
    "    plt.xlabel(name1)\n",
    "    plt.ylabel(name2)\n",
    "    \n",
    "drawGraph(critics, 'BTS', '블랙핑크')"
   ]
  },
  {
   "cell_type": "code",
   "execution_count": 68,
   "metadata": {},
   "outputs": [
    {
     "data": {
      "image/png": "[encoded data removed]",
      "text/plain": [
       "<Figure size 1008x576 with 1 Axes>"
      ]
     },
     "metadata": {
      "needs_background": "light"
     },
     "output_type": "display_data"
    }
   ],
   "source": [
    "def drawGraph(critics, name1, name2):\n",
    "    myList1=[]\n",
    "    myList2=[]\n",
    "    plt.figure(figsize=(14, 8))\n",
    "    for i in critics[name1]:\n",
    "        if i in critics[name2]:\n",
    "            myList1.append(critics[name1][i])\n",
    "            myList2.append(critics[name2][i])\n",
    "            plt.text(critics[name1][i], critics[name2][i], i)\n",
    "    plt.plot(myList1, myList2, 'ro')\n",
    "    plt.axis([0,6,0,6])\n",
    "    plt.xlabel(name1)\n",
    "    plt.ylabel(name2)\n",
    "    \n",
    "drawGraph(critics, '모모랜드', '오마이걸')"
   ]
  },
  {
   "cell_type": "code",
   "execution_count": 72,
   "metadata": {},
   "outputs": [
    {
     "name": "stdout",
     "output_type": "stream",
     "text": [
      "0.5692099788303083\n"
     ]
    }
   ],
   "source": [
    "def simPearson(data, name1, name2):\n",
    "    sumX=0\n",
    "    sumY=0\n",
    "    sumPowX=0\n",
    "    sumPowY=0\n",
    "    sumXY=0\n",
    "    count=0\n",
    "    for i in data[name1]:\n",
    "        if i in data[name2]:\n",
    "            sumX+=data[name1][i]\n",
    "            sumY+=data[name2][i]\n",
    "            sumPowX+=pow(data[name1][i], 2)\n",
    "            sumPowY+=pow(data[name2][i], 2)\n",
    "            sumXY+=data[name1][i]*data[name2][i]\n",
    "            count+=1\n",
    "    r=(sumXY-(sumX*sumY/count))/sqrt((sumPowX-pow(sumX, 2)/count)*(sumPowY-pow(sumY,2)/count))\n",
    "    return r\n",
    "print(simPearson(critics, 'BTS', '소녀시대'))"
   ]
  },
  {
   "cell_type": "code",
   "execution_count": null,
   "metadata": {},
   "outputs": [],
   "source": []
  },
  {
   "cell_type": "code",
   "execution_count": null,
   "metadata": {},
   "outputs": [],
   "source": []
  },
  {
   "cell_type": "code",
   "execution_count": null,
   "metadata": {},
   "outputs": [],
   "source": []
  },
  {
   "cell_type": "code",
   "execution_count": null,
   "metadata": {},
   "outputs": [],
   "source": []
  },
  {
   "cell_type": "code",
   "execution_count": null,
   "metadata": {},
   "outputs": [],
   "source": []
  },
  {
   "cell_type": "code",
   "execution_count": null,
   "metadata": {},
   "outputs": [],
   "source": []
  },
  {
   "cell_type": "code",
   "execution_count": null,
   "metadata": {},
   "outputs": [],
   "source": []
  },
  {
   "cell_type": "code",
   "execution_count": null,
   "metadata": {},
   "outputs": [],
   "source": []
  },
  {
   "cell_type": "code",
   "execution_count": null,
   "metadata": {},
   "outputs": [],
   "source": []
  }
 ],
 "metadata": {
  "kernelspec": {
   "display_name": "Python 3",
   "language": "python",
   "name": "python3"
  },
  "language_info": {
   "codemirror_mode": {
    "name": "ipython",
    "version": 3
   },
   "file_extension": ".py",
   "mimetype": "text/x-python",
   "name": "python",
   "nbconvert_exporter": "python",
   "pygments_lexer": "ipython3",
   "version": "3.7.6"
  }
 },
 "nbformat": 4,
 "nbformat_minor": 2
}
