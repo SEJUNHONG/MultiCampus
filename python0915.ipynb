{
 "cells": [
  {
   "cell_type": "code",
   "execution_count": 1,
   "metadata": {},
   "outputs": [],
   "source": [
    "import pandas as pd\n",
    "import numpy as np\n",
    "import matplotlib.pyplot as plt"
   ]
  },
  {
   "cell_type": "markdown",
   "metadata": {},
   "source": [
    "# 1. 다음과 같은 배열을 만들어라."
   ]
  },
  {
   "cell_type": "code",
   "execution_count": 2,
   "metadata": {},
   "outputs": [
    {
     "name": "stdout",
     "output_type": "stream",
     "text": [
      "[[  0.   0.   0.   1.   1.]\n",
      " [  0.   0.   0.   1.   1.]\n",
      " [  0.   0.   0.   1.   1.]\n",
      " [ 10.  20.  30.  40.  50.]\n",
      " [ 60.  70.  80.  90. 100.]\n",
      " [110. 120. 130. 140. 150.]\n",
      " [  0.   0.   0.   1.   1.]\n",
      " [  0.   0.   0.   1.   1.]\n",
      " [  0.   0.   0.   1.   1.]\n",
      " [ 10.  20.  30.  40.  50.]\n",
      " [ 60.  70.  80.  90. 100.]\n",
      " [110. 120. 130. 140. 150.]]\n"
     ]
    }
   ],
   "source": [
    "a1=np.zeros((3,3))\n",
    "a2=np.ones((3,2))\n",
    "a3=np.hstack([a1, a2])\n",
    "a4=np.array([10,20,30,40,50])\n",
    "a5=np.stack([a4, a4+50, a4+100])\n",
    "print(np.tile(np.vstack([a3, a5]), (2,1)))"
   ]
  },
  {
   "cell_type": "markdown",
   "metadata": {},
   "source": [
    "# 2. 다중 인덱스 참조 연습\n",
    "\n",
    "- 위와 같은 구조의 데이터프레임을 제작하시오.\n",
    "- B, C1 참조하시오.\n",
    "- 0번 행,  B,C1  값을 참조하시오.\n",
    "- 0번행 B, C1 값을 100으로 변경하시오"
   ]
  },
  {
   "cell_type": "code",
   "execution_count": 3,
   "metadata": {},
   "outputs": [
    {
     "data": {
      "text/html": [
       "<div>\n",
       "<style scoped>\n",
       "    .dataframe tbody tr th:only-of-type {\n",
       "        vertical-align: middle;\n",
       "    }\n",
       "\n",
       "    .dataframe tbody tr th {\n",
       "        vertical-align: top;\n",
       "    }\n",
       "\n",
       "    .dataframe thead tr th {\n",
       "        text-align: left;\n",
       "    }\n",
       "</style>\n",
       "<table border=\"1\" class=\"dataframe\">\n",
       "  <thead>\n",
       "    <tr>\n",
       "      <th>Cidx1</th>\n",
       "      <th colspan=\"2\" halign=\"left\">A</th>\n",
       "      <th colspan=\"2\" halign=\"left\">B</th>\n",
       "    </tr>\n",
       "    <tr>\n",
       "      <th>Cidx2</th>\n",
       "      <th>C1</th>\n",
       "      <th>C2</th>\n",
       "      <th>C1</th>\n",
       "      <th>C2</th>\n",
       "    </tr>\n",
       "  </thead>\n",
       "  <tbody>\n",
       "    <tr>\n",
       "      <th>0</th>\n",
       "      <td>-1.099106</td>\n",
       "      <td>-0.237981</td>\n",
       "      <td>-0.207345</td>\n",
       "      <td>1.029316</td>\n",
       "    </tr>\n",
       "    <tr>\n",
       "      <th>1</th>\n",
       "      <td>0.922762</td>\n",
       "      <td>-0.196380</td>\n",
       "      <td>1.138922</td>\n",
       "      <td>1.282086</td>\n",
       "    </tr>\n",
       "    <tr>\n",
       "      <th>2</th>\n",
       "      <td>1.609456</td>\n",
       "      <td>-1.248709</td>\n",
       "      <td>1.052943</td>\n",
       "      <td>-0.665258</td>\n",
       "    </tr>\n",
       "    <tr>\n",
       "      <th>3</th>\n",
       "      <td>-0.293096</td>\n",
       "      <td>0.336576</td>\n",
       "      <td>-0.161356</td>\n",
       "      <td>-1.464812</td>\n",
       "    </tr>\n",
       "    <tr>\n",
       "      <th>4</th>\n",
       "      <td>0.042550</td>\n",
       "      <td>0.972456</td>\n",
       "      <td>-0.653195</td>\n",
       "      <td>-1.197861</td>\n",
       "    </tr>\n",
       "  </tbody>\n",
       "</table>\n",
       "</div>"
      ],
      "text/plain": [
       "Cidx1         A                   B          \n",
       "Cidx2        C1        C2        C1        C2\n",
       "0     -1.099106 -0.237981 -0.207345  1.029316\n",
       "1      0.922762 -0.196380  1.138922  1.282086\n",
       "2      1.609456 -1.248709  1.052943 -0.665258\n",
       "3     -0.293096  0.336576 -0.161356 -1.464812\n",
       "4      0.042550  0.972456 -0.653195 -1.197861"
      ]
     },
     "execution_count": 3,
     "metadata": {},
     "output_type": "execute_result"
    }
   ],
   "source": [
    "df=pd.DataFrame(np.random.randn(5, 4), columns=[['A','A','B','B'],['C1','C2','C1','C2']])\n",
    "df.columns.names=['Cidx1','Cidx2']\n",
    "df"
   ]
  },
  {
   "cell_type": "code",
   "execution_count": 4,
   "metadata": {
    "scrolled": true
   },
   "outputs": [
    {
     "name": "stdout",
     "output_type": "stream",
     "text": [
      "0   -0.207345\n",
      "1    1.138922\n",
      "2    1.052943\n",
      "3   -0.161356\n",
      "4   -0.653195\n",
      "Name: C1, dtype: float64\n"
     ]
    }
   ],
   "source": [
    "print(df['B']['C1'])"
   ]
  },
  {
   "cell_type": "code",
   "execution_count": 5,
   "metadata": {},
   "outputs": [
    {
     "name": "stdout",
     "output_type": "stream",
     "text": [
      "-0.20734454708754133\n"
     ]
    }
   ],
   "source": [
    "print(df.loc[0].loc['B']['C1'])"
   ]
  },
  {
   "cell_type": "code",
   "execution_count": 6,
   "metadata": {
    "scrolled": true
   },
   "outputs": [
    {
     "name": "stdout",
     "output_type": "stream",
     "text": [
      "Cidx1         A                     B          \n",
      "Cidx2        C1        C2          C1        C2\n",
      "0     -1.099106 -0.237981  100.000000  1.029316\n",
      "1      0.922762 -0.196380    1.138922  1.282086\n",
      "2      1.609456 -1.248709    1.052943 -0.665258\n",
      "3     -0.293096  0.336576   -0.161356 -1.464812\n",
      "4      0.042550  0.972456   -0.653195 -1.197861\n"
     ]
    }
   ],
   "source": [
    "df.loc[0].loc['B']['C1']=100\n",
    "print(df)"
   ]
  },
  {
   "cell_type": "markdown",
   "metadata": {},
   "source": [
    "# 3. 연관규칙 연습 데이터셋"
   ]
  },
  {
   "cell_type": "code",
   "execution_count": 10,
   "metadata": {
    "scrolled": false
   },
   "outputs": [
    {
     "data": {
      "text/plain": [
       "array([{'우유', '계란'}, {'사과', '기저귀', '맥주', '계란'}, {'콜라', '기저귀', '우유', '맥주'},\n",
       "       {'기저귀', '우유', '맥주', '계란'}, {'콜라', '우유', '맥주', '계란'}], dtype=object)"
      ]
     },
     "execution_count": 10,
     "metadata": {},
     "output_type": "execute_result"
    }
   ],
   "source": [
    "dataset=np.array([set(['계란','우유']),\n",
    "    set(['계란','기저귀','맥주','사과']),\n",
    "    set(['우유','기저귀','맥주','콜라']),\n",
    "    set(['계란','우유','맥주','기저귀']),\n",
    "    set(['계란','우유','맥주','콜라'])])\n",
    "X=set({'계란', '맥주'})\n",
    "Y=set({'기저귀'})\n",
    "dataset"
   ]
  },
  {
   "cell_type": "code",
   "execution_count": 11,
   "metadata": {},
   "outputs": [
    {
     "name": "stdout",
     "output_type": "stream",
     "text": [
      "지지도 = 0.4\n"
     ]
    }
   ],
   "source": [
    "sX_Y=len(dataset[((X|Y)-dataset)==set()])/len(dataset)\n",
    "print(\"지지도 =\",sX_Y)"
   ]
  },
  {
   "cell_type": "code",
   "execution_count": 12,
   "metadata": {},
   "outputs": [
    {
     "name": "stdout",
     "output_type": "stream",
     "text": [
      "신뢰도 = 0.6666666666666666\n"
     ]
    }
   ],
   "source": [
    "cX_Y=len(dataset[((X|Y)-dataset)==set()])/len(dataset[(X-dataset)==set()])\n",
    "print(\"신뢰도 =\",cX_Y)"
   ]
  },
  {
   "cell_type": "code",
   "execution_count": 13,
   "metadata": {},
   "outputs": [
    {
     "name": "stdout",
     "output_type": "stream",
     "text": [
      "향상도 = 1.1111111111111112\n"
     ]
    }
   ],
   "source": [
    "sY=len(dataset[(Y-dataset)==set()])/len(dataset)\n",
    "LiftX_Y=cX_Y/sY\n",
    "print(\"향상도 =\",LiftX_Y)"
   ]
  }
 ],
 "metadata": {
  "kernelspec": {
   "display_name": "Python 3",
   "language": "python",
   "name": "python3"
  },
  "language_info": {
   "codemirror_mode": {
    "name": "ipython",
    "version": 3
   },
   "file_extension": ".py",
   "mimetype": "text/x-python",
   "name": "python",
   "nbconvert_exporter": "python",
   "pygments_lexer": "ipython3",
   "version": "3.7.6"
  }
 },
 "nbformat": 4,
 "nbformat_minor": 2
}
