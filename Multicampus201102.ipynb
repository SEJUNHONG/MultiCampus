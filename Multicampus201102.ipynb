{
 "cells": [
  {
   "cell_type": "code",
   "execution_count": 2,
   "metadata": {},
   "outputs": [],
   "source": [
    "from keras.utils import np_utils\n",
    "from tensorflow.keras.datasets import mnist\n",
    "from tensorflow.keras.models import Sequential\n",
    "from tensorflow.keras.layers import Dense, Activation"
   ]
  },
  {
   "cell_type": "code",
   "execution_count": 3,
   "metadata": {},
   "outputs": [],
   "source": [
    "# 1) 데이터셋 생성\n",
    "#   - 훈련/검증/시험 셋 생성\n",
    "#   - 데이터 형식 변환\n",
    "(xTrain, yTrain), (xTest, yTest)=mnist.load_data()"
   ]
  },
  {
   "cell_type": "code",
   "execution_count": 4,
   "metadata": {},
   "outputs": [],
   "source": [
    "xTrain=xTrain.reshape(60000, 28*28).astype('float32')/255.0"
   ]
  },
  {
   "cell_type": "code",
   "execution_count": 5,
   "metadata": {},
   "outputs": [
    {
     "data": {
      "text/plain": [
       "array([[0., 0., 0., ..., 0., 0., 0.],\n",
       "       [0., 0., 0., ..., 0., 0., 0.],\n",
       "       [0., 0., 0., ..., 0., 0., 0.],\n",
       "       ...,\n",
       "       [0., 0., 0., ..., 0., 0., 0.],\n",
       "       [0., 0., 0., ..., 0., 0., 0.],\n",
       "       [0., 0., 0., ..., 0., 0., 0.]], dtype=float32)"
      ]
     },
     "execution_count": 5,
     "metadata": {},
     "output_type": "execute_result"
    }
   ],
   "source": [
    "xTrain"
   ]
  },
  {
   "cell_type": "code",
   "execution_count": 6,
   "metadata": {},
   "outputs": [],
   "source": [
    "xTest=xTest.reshape(10000, 28*28).astype('float32')/255.0"
   ]
  },
  {
   "cell_type": "code",
   "execution_count": 7,
   "metadata": {},
   "outputs": [
    {
     "data": {
      "text/plain": [
       "array([5, 0, 4, ..., 5, 6, 8], dtype=uint8)"
      ]
     },
     "execution_count": 7,
     "metadata": {},
     "output_type": "execute_result"
    }
   ],
   "source": [
    "yTrain"
   ]
  },
  {
   "cell_type": "code",
   "execution_count": 8,
   "metadata": {},
   "outputs": [],
   "source": [
    "yTrain=np_utils.to_categorical(yTrain)\n",
    "yTest=np_utils.to_categorical(yTest)"
   ]
  },
  {
   "cell_type": "code",
   "execution_count": 9,
   "metadata": {},
   "outputs": [],
   "source": [
    "# 2) 모델(신경망/깊은 신경망) 구성\n",
    "#   - Sequential 클래스 이용하여 레이어 추가하여 구성\n",
    "#   - 복잡한 모델의 경우에는 함수 API 사용\n",
    "model=Sequential()\n",
    "model.add(Dense(units=64, input_dim=28*28, activation='relu')) # add함수 : 레이어 추가\n",
    "model.add(Dense(units=10, activation='softmax'))"
   ]
  },
  {
   "cell_type": "code",
   "execution_count": 10,
   "metadata": {},
   "outputs": [],
   "source": [
    "# 3) 학습과정 설정\n",
    "#   - cost함수 정의, 최적화 방법 정의(compile 함수)\n",
    "model.compile(loss='categorical_crossentropy', optimizer='sgd', metrics=['accuracy'])"
   ]
  },
  {
   "cell_type": "code",
   "execution_count": 11,
   "metadata": {},
   "outputs": [
    {
     "name": "stdout",
     "output_type": "stream",
     "text": [
      "Epoch 1/5\n",
      "1875/1875 [==============================] - 2s 835us/step - loss: 0.6626 - accuracy: 0.8331\n",
      "Epoch 2/5\n",
      "1875/1875 [==============================] - 2s 823us/step - loss: 0.3434 - accuracy: 0.9041\n",
      "Epoch 3/5\n",
      "1875/1875 [==============================] - 2s 822us/step - loss: 0.2982 - accuracy: 0.9150\n",
      "Epoch 4/5\n",
      "1875/1875 [==============================] - 2s 817us/step - loss: 0.2703 - accuracy: 0.9229\n",
      "Epoch 5/5\n",
      "1875/1875 [==============================] - 2s 822us/step - loss: 0.2488 - accuracy: 0.9299\n"
     ]
    }
   ],
   "source": [
    "# 4) 모델 학습\n",
    "#   - 훈련 -> 모델 학습(fit 함수)\n",
    "hist=model.fit(xTrain, yTrain, epochs=5, batch_size=32)"
   ]
  },
  {
   "cell_type": "code",
   "execution_count": 12,
   "metadata": {},
   "outputs": [
    {
     "name": "stdout",
     "output_type": "stream",
     "text": [
      "[0.6625903844833374, 0.3433692455291748, 0.29822906851768494, 0.27034375071525574, 0.24880553781986237]\n"
     ]
    }
   ],
   "source": [
    "print(hist.history['loss'])"
   ]
  },
  {
   "cell_type": "code",
   "execution_count": 13,
   "metadata": {},
   "outputs": [
    {
     "name": "stdout",
     "output_type": "stream",
     "text": [
      "[0.8330833315849304, 0.9040833115577698, 0.9150166511535645, 0.9228833317756653, 0.9299166798591614]\n"
     ]
    }
   ],
   "source": [
    "print(hist.history['accuracy'])"
   ]
  },
  {
   "cell_type": "code",
   "execution_count": 14,
   "metadata": {},
   "outputs": [
    {
     "name": "stdout",
     "output_type": "stream",
     "text": [
      "  1/313 [..............................] - ETA: 0s - loss: 0.1988 - accuracy: 0.9688WARNING:tensorflow:Callbacks method `on_test_batch_begin` is slow compared to the batch time (batch time: 0.0000s vs `on_test_batch_begin` time: 0.0010s). Check your callbacks.\n",
      "313/313 [==============================] - 0s 636us/step - loss: 0.2308 - accuracy: 0.9328\n",
      "모델 평가 결과 :  [0.23077449202537537, 0.9327999949455261]\n"
     ]
    }
   ],
   "source": [
    "# 6) 모델 평가\n",
    "#   - 테스트 데이터로 평가 (evaluate 함수)\n",
    "res=model.evaluate(xTest, yTest, batch_size=32)\n",
    "print(\"모델 평가 결과 : \",res)"
   ]
  },
  {
   "cell_type": "code",
   "execution_count": 15,
   "metadata": {},
   "outputs": [
    {
     "name": "stdout",
     "output_type": "stream",
     "text": [
      "예측 결과 :  [[1.7903170e-04 6.4285018e-08 6.7846669e-04 2.3549001e-03 1.3896554e-06\n",
      "  1.0945188e-04 5.1147307e-08 9.9619555e-01 1.7808379e-05 4.6325734e-04]]\n"
     ]
    }
   ],
   "source": [
    "# 7) 모델 사용\n",
    "#   - 임의의 입력 데이터 -> 모델 -> 예측된 출력값 (predict 함수)\n",
    "yhat=model.predict(xTest[0:1])\n",
    "print(\"예측 결과 : \", yhat)"
   ]
  },
  {
   "cell_type": "code",
   "execution_count": 17,
   "metadata": {},
   "outputs": [],
   "source": [
    "import numpy as np"
   ]
  },
  {
   "cell_type": "code",
   "execution_count": 18,
   "metadata": {},
   "outputs": [],
   "source": [
    "x=np.array([1,2,3,4,5,6,7,8,9])\n",
    "y=np.array([11,20,31,47,52,69,74,89,100])"
   ]
  },
  {
   "cell_type": "code",
   "execution_count": 19,
   "metadata": {},
   "outputs": [],
   "source": [
    "from keras import optimizers\n",
    "sgd=optimizers.SGD(lr=0.01)"
   ]
  },
  {
   "cell_type": "code",
   "execution_count": 21,
   "metadata": {},
   "outputs": [],
   "source": [
    "model=Sequential()\n",
    "model.add(Dense(units=1, input_dim=1, activation='linear'))\n",
    "model.compile(loss='mse', optimizer=sgd, metrics=['mse'])"
   ]
  },
  {
   "cell_type": "code",
   "execution_count": 23,
   "metadata": {},
   "outputs": [
    {
     "name": "stdout",
     "output_type": "stream",
     "text": [
      "Epoch 1/100\n",
      "1/1 [==============================] - 0s 997us/step - loss: 5.6818 - mse: 5.6818\n",
      "Epoch 2/100\n",
      "1/1 [==============================] - 0s 1ms/step - loss: 5.6749 - mse: 5.6749\n",
      "Epoch 3/100\n",
      "1/1 [==============================] - 0s 1ms/step - loss: 5.6680 - mse: 5.6680\n",
      "Epoch 4/100\n",
      "1/1 [==============================] - 0s 999us/step - loss: 5.6612 - mse: 5.6612\n",
      "Epoch 5/100\n",
      "1/1 [==============================] - 0s 1000us/step - loss: 5.6545 - mse: 5.6545\n",
      "Epoch 6/100\n",
      "1/1 [==============================] - 0s 998us/step - loss: 5.6478 - mse: 5.6478\n",
      "Epoch 7/100\n",
      "1/1 [==============================] - 0s 999us/step - loss: 5.6411 - mse: 5.6411\n",
      "Epoch 8/100\n",
      "1/1 [==============================] - 0s 999us/step - loss: 5.6346 - mse: 5.6346\n",
      "Epoch 9/100\n",
      "1/1 [==============================] - 0s 1ms/step - loss: 5.6280 - mse: 5.6280\n",
      "Epoch 10/100\n",
      "1/1 [==============================] - 0s 1ms/step - loss: 5.6215 - mse: 5.6215\n",
      "Epoch 11/100\n",
      "1/1 [==============================] - 0s 1ms/step - loss: 5.6151 - mse: 5.6151\n",
      "Epoch 12/100\n",
      "1/1 [==============================] - 0s 999us/step - loss: 5.6087 - mse: 5.6087\n",
      "Epoch 13/100\n",
      "1/1 [==============================] - 0s 1ms/step - loss: 5.6024 - mse: 5.6024\n",
      "Epoch 14/100\n",
      "1/1 [==============================] - 0s 997us/step - loss: 5.5962 - mse: 5.5962\n",
      "Epoch 15/100\n",
      "1/1 [==============================] - 0s 3ms/step - loss: 5.5899 - mse: 5.5899\n",
      "Epoch 16/100\n",
      "1/1 [==============================] - 0s 1ms/step - loss: 5.5838 - mse: 5.5838\n",
      "Epoch 17/100\n",
      "1/1 [==============================] - 0s 2ms/step - loss: 5.5777 - mse: 5.5777\n",
      "Epoch 18/100\n",
      "1/1 [==============================] - 0s 1ms/step - loss: 5.5716 - mse: 5.5716\n",
      "Epoch 19/100\n",
      "1/1 [==============================] - 0s 997us/step - loss: 5.5656 - mse: 5.5656\n",
      "Epoch 20/100\n",
      "1/1 [==============================] - 0s 1ms/step - loss: 5.5596 - mse: 5.5596\n",
      "Epoch 21/100\n",
      "1/1 [==============================] - 0s 1ms/step - loss: 5.5537 - mse: 5.5537\n",
      "Epoch 22/100\n",
      "1/1 [==============================] - 0s 999us/step - loss: 5.5478 - mse: 5.5478\n",
      "Epoch 23/100\n",
      "1/1 [==============================] - 0s 1ms/step - loss: 5.5420 - mse: 5.5420\n",
      "Epoch 24/100\n",
      "1/1 [==============================] - 0s 0s/step - loss: 5.5362 - mse: 5.5362\n",
      "Epoch 25/100\n",
      "1/1 [==============================] - 0s 1000us/step - loss: 5.5305 - mse: 5.5305\n",
      "Epoch 26/100\n",
      "1/1 [==============================] - 0s 999us/step - loss: 5.5248 - mse: 5.5248\n",
      "Epoch 27/100\n",
      "1/1 [==============================] - 0s 1ms/step - loss: 5.5192 - mse: 5.5192\n",
      "Epoch 28/100\n",
      "1/1 [==============================] - 0s 998us/step - loss: 5.5136 - mse: 5.5136\n",
      "Epoch 29/100\n",
      "1/1 [==============================] - 0s 1ms/step - loss: 5.5081 - mse: 5.5081\n",
      "Epoch 30/100\n",
      "1/1 [==============================] - 0s 2ms/step - loss: 5.5025 - mse: 5.5025\n",
      "Epoch 31/100\n",
      "1/1 [==============================] - 0s 999us/step - loss: 5.4971 - mse: 5.4971\n",
      "Epoch 32/100\n",
      "1/1 [==============================] - 0s 2ms/step - loss: 5.4917 - mse: 5.4917\n",
      "Epoch 33/100\n",
      "1/1 [==============================] - 0s 1ms/step - loss: 5.4863 - mse: 5.4863\n",
      "Epoch 34/100\n",
      "1/1 [==============================] - 0s 1ms/step - loss: 5.4810 - mse: 5.4810\n",
      "Epoch 35/100\n",
      "1/1 [==============================] - 0s 0s/step - loss: 5.4757 - mse: 5.4757\n",
      "Epoch 36/100\n",
      "1/1 [==============================] - 0s 1000us/step - loss: 5.4705 - mse: 5.4705\n",
      "Epoch 37/100\n",
      "1/1 [==============================] - 0s 0s/step - loss: 5.4653 - mse: 5.4653\n",
      "Epoch 38/100\n",
      "1/1 [==============================] - 0s 1ms/step - loss: 5.4602 - mse: 5.4602\n",
      "Epoch 39/100\n",
      "1/1 [==============================] - 0s 996us/step - loss: 5.4551 - mse: 5.4551\n",
      "Epoch 40/100\n",
      "1/1 [==============================] - 0s 2ms/step - loss: 5.4500 - mse: 5.4500\n",
      "Epoch 41/100\n",
      "1/1 [==============================] - 0s 0s/step - loss: 5.4450 - mse: 5.4450\n",
      "Epoch 42/100\n",
      "1/1 [==============================] - 0s 999us/step - loss: 5.4400 - mse: 5.4400\n",
      "Epoch 43/100\n",
      "1/1 [==============================] - 0s 1000us/step - loss: 5.4351 - mse: 5.4351\n",
      "Epoch 44/100\n",
      "1/1 [==============================] - 0s 1ms/step - loss: 5.4302 - mse: 5.4302\n",
      "Epoch 45/100\n",
      "1/1 [==============================] - 0s 1000us/step - loss: 5.4253 - mse: 5.4253\n",
      "Epoch 46/100\n",
      "1/1 [==============================] - 0s 2ms/step - loss: 5.4205 - mse: 5.4205\n",
      "Epoch 47/100\n",
      "1/1 [==============================] - 0s 999us/step - loss: 5.4157 - mse: 5.4157\n",
      "Epoch 48/100\n",
      "1/1 [==============================] - 0s 1ms/step - loss: 5.4110 - mse: 5.4110\n",
      "Epoch 49/100\n",
      "1/1 [==============================] - 0s 1ms/step - loss: 5.4063 - mse: 5.4063\n",
      "Epoch 50/100\n",
      "1/1 [==============================] - 0s 2ms/step - loss: 5.4016 - mse: 5.4016\n",
      "Epoch 51/100\n",
      "1/1 [==============================] - 0s 998us/step - loss: 5.3970 - mse: 5.3970\n",
      "Epoch 52/100\n",
      "1/1 [==============================] - 0s 1ms/step - loss: 5.3924 - mse: 5.3924\n",
      "Epoch 53/100\n",
      "1/1 [==============================] - 0s 999us/step - loss: 5.3879 - mse: 5.3879\n",
      "Epoch 54/100\n",
      "1/1 [==============================] - 0s 1ms/step - loss: 5.3834 - mse: 5.3834\n",
      "Epoch 55/100\n",
      "1/1 [==============================] - 0s 1ms/step - loss: 5.3789 - mse: 5.3789\n",
      "Epoch 56/100\n",
      "1/1 [==============================] - 0s 1ms/step - loss: 5.3744 - mse: 5.3744\n",
      "Epoch 57/100\n",
      "1/1 [==============================] - 0s 999us/step - loss: 5.3700 - mse: 5.3700\n",
      "Epoch 58/100\n",
      "1/1 [==============================] - 0s 0s/step - loss: 5.3657 - mse: 5.3657\n",
      "Epoch 59/100\n",
      "1/1 [==============================] - 0s 1ms/step - loss: 5.3614 - mse: 5.3614\n",
      "Epoch 60/100\n",
      "1/1 [==============================] - 0s 999us/step - loss: 5.3571 - mse: 5.3571\n",
      "Epoch 61/100\n",
      "1/1 [==============================] - 0s 1000us/step - loss: 5.3528 - mse: 5.3528\n",
      "Epoch 62/100\n",
      "1/1 [==============================] - 0s 2ms/step - loss: 5.3486 - mse: 5.3486\n",
      "Epoch 63/100\n",
      "1/1 [==============================] - 0s 1ms/step - loss: 5.3444 - mse: 5.3444\n",
      "Epoch 64/100\n",
      "1/1 [==============================] - 0s 0s/step - loss: 5.3402 - mse: 5.3402\n",
      "Epoch 65/100\n",
      "1/1 [==============================] - 0s 2ms/step - loss: 5.3361 - mse: 5.3361\n",
      "Epoch 66/100\n",
      "1/1 [==============================] - 0s 1ms/step - loss: 5.3320 - mse: 5.3320\n",
      "Epoch 67/100\n",
      "1/1 [==============================] - 0s 1ms/step - loss: 5.3280 - mse: 5.3280\n",
      "Epoch 68/100\n",
      "1/1 [==============================] - 0s 1000us/step - loss: 5.3240 - mse: 5.3240\n",
      "Epoch 69/100\n",
      "1/1 [==============================] - 0s 1ms/step - loss: 5.3200 - mse: 5.3200\n",
      "Epoch 70/100\n",
      "1/1 [==============================] - 0s 999us/step - loss: 5.3160 - mse: 5.3160\n",
      "Epoch 71/100\n",
      "1/1 [==============================] - 0s 1ms/step - loss: 5.3121 - mse: 5.3121\n",
      "Epoch 72/100\n",
      "1/1 [==============================] - 0s 998us/step - loss: 5.3082 - mse: 5.3082\n",
      "Epoch 73/100\n",
      "1/1 [==============================] - 0s 1ms/step - loss: 5.3043 - mse: 5.3043\n",
      "Epoch 74/100\n",
      "1/1 [==============================] - 0s 1000us/step - loss: 5.3005 - mse: 5.3005\n",
      "Epoch 75/100\n",
      "1/1 [==============================] - 0s 999us/step - loss: 5.2967 - mse: 5.2967\n",
      "Epoch 76/100\n",
      "1/1 [==============================] - 0s 2ms/step - loss: 5.2930 - mse: 5.2930\n",
      "Epoch 77/100\n",
      "1/1 [==============================] - 0s 1ms/step - loss: 5.2892 - mse: 5.2892\n",
      "Epoch 78/100\n",
      "1/1 [==============================] - 0s 999us/step - loss: 5.2855 - mse: 5.2855\n",
      "Epoch 79/100\n",
      "1/1 [==============================] - 0s 0s/step - loss: 5.2819 - mse: 5.2819\n",
      "Epoch 80/100\n",
      "1/1 [==============================] - 0s 2ms/step - loss: 5.2782 - mse: 5.2782\n",
      "Epoch 81/100\n",
      "1/1 [==============================] - 0s 1000us/step - loss: 5.2746 - mse: 5.2746\n",
      "Epoch 82/100\n",
      "1/1 [==============================] - 0s 0s/step - loss: 5.2710 - mse: 5.2710\n",
      "Epoch 83/100\n",
      "1/1 [==============================] - 0s 2ms/step - loss: 5.2675 - mse: 5.2675\n",
      "Epoch 84/100\n",
      "1/1 [==============================] - 0s 999us/step - loss: 5.2639 - mse: 5.2639\n",
      "Epoch 85/100\n",
      "1/1 [==============================] - 0s 999us/step - loss: 5.2605 - mse: 5.2605\n",
      "Epoch 86/100\n",
      "1/1 [==============================] - 0s 2ms/step - loss: 5.2570 - mse: 5.2570\n",
      "Epoch 87/100\n",
      "1/1 [==============================] - 0s 1000us/step - loss: 5.2535 - mse: 5.2535\n",
      "Epoch 88/100\n"
     ]
    },
    {
     "name": "stdout",
     "output_type": "stream",
     "text": [
      "1/1 [==============================] - 0s 2ms/step - loss: 5.2501 - mse: 5.2501\n",
      "Epoch 89/100\n",
      "1/1 [==============================] - 0s 2ms/step - loss: 5.2468 - mse: 5.2468\n",
      "Epoch 90/100\n",
      "1/1 [==============================] - 0s 2ms/step - loss: 5.2434 - mse: 5.2434\n",
      "Epoch 91/100\n",
      "1/1 [==============================] - 0s 999us/step - loss: 5.2401 - mse: 5.2401\n",
      "Epoch 92/100\n",
      "1/1 [==============================] - 0s 2ms/step - loss: 5.2368 - mse: 5.2368\n",
      "Epoch 93/100\n",
      "1/1 [==============================] - 0s 2ms/step - loss: 5.2335 - mse: 5.2335\n",
      "Epoch 94/100\n",
      "1/1 [==============================] - 0s 999us/step - loss: 5.2303 - mse: 5.2303\n",
      "Epoch 95/100\n",
      "1/1 [==============================] - 0s 0s/step - loss: 5.2270 - mse: 5.2270\n",
      "Epoch 96/100\n",
      "1/1 [==============================] - 0s 998us/step - loss: 5.2238 - mse: 5.2238\n",
      "Epoch 97/100\n",
      "1/1 [==============================] - 0s 2ms/step - loss: 5.2207 - mse: 5.2207\n",
      "Epoch 98/100\n",
      "1/1 [==============================] - 0s 999us/step - loss: 5.2175 - mse: 5.2175\n",
      "Epoch 99/100\n",
      "1/1 [==============================] - 0s 0s/step - loss: 5.2144 - mse: 5.2144\n",
      "Epoch 100/100\n",
      "1/1 [==============================] - 0s 1ms/step - loss: 5.2113 - mse: 5.2113\n"
     ]
    },
    {
     "data": {
      "text/plain": [
       "<tensorflow.python.keras.callbacks.History at 0x2483949ac70>"
      ]
     },
     "execution_count": 23,
     "metadata": {},
     "output_type": "execute_result"
    }
   ],
   "source": [
    "model.fit(x, y, epochs=100)"
   ]
  },
  {
   "cell_type": "code",
   "execution_count": 25,
   "metadata": {},
   "outputs": [
    {
     "data": {
      "text/plain": [
       "array([[104.42643],\n",
       "       [ 79.18971]], dtype=float32)"
      ]
     },
     "execution_count": 25,
     "metadata": {},
     "output_type": "execute_result"
    }
   ],
   "source": [
    "model.predict([9.5, 7.2])"
   ]
  },
  {
   "cell_type": "code",
   "execution_count": 27,
   "metadata": {},
   "outputs": [
    {
     "data": {
      "text/plain": [
       "[<matplotlib.lines.Line2D at 0x2483e038880>,\n",
       " <matplotlib.lines.Line2D at 0x2483e038970>]"
      ]
     },
     "execution_count": 27,
     "metadata": {},
     "output_type": "execute_result"
    },
    {
     "data": {
      "image/png": "[encoded data removed]",
      "text/plain": [
       "<Figure size 432x288 with 1 Axes>"
      ]
     },
     "metadata": {
      "needs_background": "light"
     },
     "output_type": "display_data"
    }
   ],
   "source": [
    "import matplotlib.pyplot as plt\n",
    "plt.plot(x, model.predict(x), 'b', x, y, 'k.')"
   ]
  },
  {
   "cell_type": "code",
   "execution_count": 29,
   "metadata": {},
   "outputs": [
    {
     "data": {
      "text/plain": [
       "[<matplotlib.lines.Line2D at 0x2483e06f730>]"
      ]
     },
     "execution_count": 29,
     "metadata": {},
     "output_type": "execute_result"
    },
    {
     "data": {
      "image/png": "[encoded data removed]",
      "text/plain": [
       "<Figure size 432x288 with 1 Axes>"
      ]
     },
     "metadata": {
      "needs_background": "light"
     },
     "output_type": "display_data"
    }
   ],
   "source": [
    "def mySigmoid(x):\n",
    "    return 1/(1+np.exp(-x))\n",
    "    \n",
    "x=np.arange(-5, 5, 0.1)\n",
    "y=mySigmoid(x)\n",
    "plt.plot(x,y,'g')\n",
    "plt.plot([0,0],[1,0],\":\")"
   ]
  },
  {
   "cell_type": "code",
   "execution_count": 30,
   "metadata": {},
   "outputs": [
    {
     "data": {
      "text/plain": [
       "[<matplotlib.lines.Line2D at 0x2483e054460>]"
      ]
     },
     "execution_count": 30,
     "metadata": {},
     "output_type": "execute_result"
    },
    {
     "data": {
      "image/png": "[encoded data removed]",
      "text/plain": [
       "<Figure size 432x288 with 1 Axes>"
      ]
     },
     "metadata": {
      "needs_background": "light"
     },
     "output_type": "display_data"
    }
   ],
   "source": [
    "def mySigmoid2(z):\n",
    "    return 1/(1+np.exp(-z))\n",
    "    \n",
    "x=np.arange(-5, 5, 0.1)\n",
    "y1=mySigmoid2(x)\n",
    "y2=mySigmoid2(0.5*x)\n",
    "y3=mySigmoid2(2*x)\n",
    "plt.plot(x,y1,'g')\n",
    "plt.plot(x,y2,'b')\n",
    "plt.plot(x,y3,'r')\n",
    "plt.plot([0,0],[1,0],\":\")"
   ]
  },
  {
   "cell_type": "code",
   "execution_count": 31,
   "metadata": {},
   "outputs": [],
   "source": [
    "x=np.array([-50,-40,-30,-20,-10,-5,0,5,10,22,31,47,55])\n",
    "y=np.array([0,0,0,0,0,0,0,1,1,1,1,1,1])"
   ]
  },
  {
   "cell_type": "code",
   "execution_count": 32,
   "metadata": {},
   "outputs": [],
   "source": [
    "model=Sequential()\n",
    "model.add(Dense(1, input_dim=1, activation='sigmoid'))"
   ]
  },
  {
   "cell_type": "code",
   "execution_count": 33,
   "metadata": {},
   "outputs": [],
   "source": [
    "sgd=optimizers.SGD(lr=0.01)\n",
    "model.compile(loss='binary_crossentropy', optimizer=sgd, metrics=['binary_accuracy'])"
   ]
  },
  {
   "cell_type": "code",
   "execution_count": 34,
   "metadata": {
    "scrolled": false
   },
   "outputs": [
    {
     "name": "stdout",
     "output_type": "stream",
     "text": [
      "Epoch 1/300\n",
      "13/13 [==============================] - 0s 692us/step - loss: 0.1230 - binary_accuracy: 1.0000\n",
      "Epoch 2/300\n",
      "13/13 [==============================] - 0s 615us/step - loss: 0.1050 - binary_accuracy: 1.0000\n",
      "Epoch 3/300\n",
      "13/13 [==============================] - 0s 615us/step - loss: 0.0950 - binary_accuracy: 1.0000\n",
      "Epoch 4/300\n",
      "13/13 [==============================] - 0s 615us/step - loss: 0.0883 - binary_accuracy: 1.0000\n",
      "Epoch 5/300\n",
      "13/13 [==============================] - 0s 615us/step - loss: 0.0836 - binary_accuracy: 1.0000\n",
      "Epoch 6/300\n",
      "13/13 [==============================] - 0s 1ms/step - loss: 0.0799 - binary_accuracy: 1.0000\n",
      "Epoch 7/300\n",
      "13/13 [==============================] - 0s 692us/step - loss: 0.0771 - binary_accuracy: 1.0000\n",
      "Epoch 8/300\n",
      "13/13 [==============================] - 0s 616us/step - loss: 0.0748 - binary_accuracy: 1.0000\n",
      "Epoch 9/300\n",
      "13/13 [==============================] - 0s 538us/step - loss: 0.0728 - binary_accuracy: 1.0000\n",
      "Epoch 10/300\n",
      "13/13 [==============================] - 0s 615us/step - loss: 0.0711 - binary_accuracy: 1.0000\n",
      "Epoch 11/300\n",
      "13/13 [==============================] - 0s 846us/step - loss: 0.0696 - binary_accuracy: 1.0000\n",
      "Epoch 12/300\n",
      "13/13 [==============================] - 0s 616us/step - loss: 0.0683 - binary_accuracy: 1.0000\n",
      "Epoch 13/300\n",
      "13/13 [==============================] - 0s 615us/step - loss: 0.0671 - binary_accuracy: 1.0000\n",
      "Epoch 14/300\n",
      "13/13 [==============================] - 0s 693us/step - loss: 0.0661 - binary_accuracy: 1.0000\n",
      "Epoch 15/300\n",
      "13/13 [==============================] - 0s 538us/step - loss: 0.0651 - binary_accuracy: 1.0000\n",
      "Epoch 16/300\n",
      "13/13 [==============================] - 0s 1000us/step - loss: 0.0642 - binary_accuracy: 1.0000\n",
      "Epoch 17/300\n",
      "13/13 [==============================] - 0s 615us/step - loss: 0.0634 - binary_accuracy: 1.0000\n",
      "Epoch 18/300\n",
      "13/13 [==============================] - 0s 615us/step - loss: 0.0627 - binary_accuracy: 1.0000\n",
      "Epoch 19/300\n",
      "13/13 [==============================] - 0s 539us/step - loss: 0.0620 - binary_accuracy: 1.0000\n",
      "Epoch 20/300\n",
      "13/13 [==============================] - 0s 1ms/step - loss: 0.0614 - binary_accuracy: 1.0000\n",
      "Epoch 21/300\n",
      "13/13 [==============================] - 0s 615us/step - loss: 0.0607 - binary_accuracy: 1.0000\n",
      "Epoch 22/300\n",
      "13/13 [==============================] - 0s 692us/step - loss: 0.0602 - binary_accuracy: 1.0000\n",
      "Epoch 23/300\n",
      "13/13 [==============================] - 0s 538us/step - loss: 0.0596 - binary_accuracy: 1.0000\n",
      "Epoch 24/300\n",
      "13/13 [==============================] - 0s 538us/step - loss: 0.0591 - binary_accuracy: 1.0000\n",
      "Epoch 25/300\n",
      "13/13 [==============================] - 0s 923us/step - loss: 0.0586 - binary_accuracy: 1.0000\n",
      "Epoch 26/300\n",
      "13/13 [==============================] - 0s 615us/step - loss: 0.0581 - binary_accuracy: 1.0000\n",
      "Epoch 27/300\n",
      "13/13 [==============================] - 0s 615us/step - loss: 0.0577 - binary_accuracy: 1.0000\n",
      "Epoch 28/300\n",
      "13/13 [==============================] - 0s 615us/step - loss: 0.0573 - binary_accuracy: 1.0000\n",
      "Epoch 29/300\n",
      "13/13 [==============================] - 0s 846us/step - loss: 0.0569 - binary_accuracy: 1.0000\n",
      "Epoch 30/300\n",
      "13/13 [==============================] - 0s 692us/step - loss: 0.0565 - binary_accuracy: 1.0000\n",
      "Epoch 31/300\n",
      "13/13 [==============================] - 0s 615us/step - loss: 0.0561 - binary_accuracy: 1.0000\n",
      "Epoch 32/300\n",
      "13/13 [==============================] - 0s 692us/step - loss: 0.0557 - binary_accuracy: 1.0000\n",
      "Epoch 33/300\n",
      "13/13 [==============================] - 0s 692us/step - loss: 0.0553 - binary_accuracy: 1.0000\n",
      "Epoch 34/300\n",
      "13/13 [==============================] - 0s 1ms/step - loss: 0.0550 - binary_accuracy: 1.0000\n",
      "Epoch 35/300\n",
      "13/13 [==============================] - 0s 769us/step - loss: 0.0547 - binary_accuracy: 1.0000\n",
      "Epoch 36/300\n",
      "13/13 [==============================] - 0s 538us/step - loss: 0.0543 - binary_accuracy: 1.0000\n",
      "Epoch 37/300\n",
      "13/13 [==============================] - 0s 769us/step - loss: 0.0540 - binary_accuracy: 1.0000\n",
      "Epoch 38/300\n",
      "13/13 [==============================] - 0s 1ms/step - loss: 0.0537 - binary_accuracy: 1.0000\n",
      "Epoch 39/300\n",
      "13/13 [==============================] - 0s 769us/step - loss: 0.0534 - binary_accuracy: 1.0000\n",
      "Epoch 40/300\n",
      "13/13 [==============================] - 0s 615us/step - loss: 0.0531 - binary_accuracy: 1.0000\n",
      "Epoch 41/300\n",
      "13/13 [==============================] - 0s 616us/step - loss: 0.0528 - binary_accuracy: 1.0000\n",
      "Epoch 42/300\n",
      "13/13 [==============================] - 0s 462us/step - loss: 0.0525 - binary_accuracy: 1.0000\n",
      "Epoch 43/300\n",
      "13/13 [==============================] - 0s 769us/step - loss: 0.0523 - binary_accuracy: 1.0000\n",
      "Epoch 44/300\n",
      "13/13 [==============================] - 0s 616us/step - loss: 0.0520 - binary_accuracy: 1.0000\n",
      "Epoch 45/300\n",
      "13/13 [==============================] - 0s 462us/step - loss: 0.0517 - binary_accuracy: 1.0000\n",
      "Epoch 46/300\n",
      "13/13 [==============================] - 0s 615us/step - loss: 0.0515 - binary_accuracy: 1.0000\n",
      "Epoch 47/300\n",
      "13/13 [==============================] - 0s 539us/step - loss: 0.0512 - binary_accuracy: 1.0000\n",
      "Epoch 48/300\n",
      "13/13 [==============================] - 0s 538us/step - loss: 0.0510 - binary_accuracy: 1.0000\n",
      "Epoch 49/300\n",
      "13/13 [==============================] - 0s 615us/step - loss: 0.0507 - binary_accuracy: 1.0000\n",
      "Epoch 50/300\n",
      "13/13 [==============================] - 0s 461us/step - loss: 0.0505 - binary_accuracy: 1.0000\n",
      "Epoch 51/300\n",
      "13/13 [==============================] - 0s 538us/step - loss: 0.0502 - binary_accuracy: 1.0000\n",
      "Epoch 52/300\n",
      "13/13 [==============================] - 0s 539us/step - loss: 0.0500 - binary_accuracy: 1.0000\n",
      "Epoch 53/300\n",
      "13/13 [==============================] - 0s 538us/step - loss: 0.0498 - binary_accuracy: 1.0000\n",
      "Epoch 54/300\n",
      "13/13 [==============================] - 0s 846us/step - loss: 0.0496 - binary_accuracy: 1.0000\n",
      "Epoch 55/300\n",
      "13/13 [==============================] - 0s 1ms/step - loss: 0.0493 - binary_accuracy: 1.0000\n",
      "Epoch 56/300\n",
      "13/13 [==============================] - 0s 538us/step - loss: 0.0491 - binary_accuracy: 1.0000\n",
      "Epoch 57/300\n",
      "13/13 [==============================] - 0s 461us/step - loss: 0.0489 - binary_accuracy: 1.0000\n",
      "Epoch 58/300\n",
      "13/13 [==============================] - 0s 615us/step - loss: 0.0487 - binary_accuracy: 1.0000\n",
      "Epoch 59/300\n",
      "13/13 [==============================] - 0s 462us/step - loss: 0.0485 - binary_accuracy: 1.0000\n",
      "Epoch 60/300\n",
      "13/13 [==============================] - 0s 1ms/step - loss: 0.0483 - binary_accuracy: 1.0000\n",
      "Epoch 61/300\n",
      "13/13 [==============================] - 0s 539us/step - loss: 0.0481 - binary_accuracy: 1.0000\n",
      "Epoch 62/300\n",
      "13/13 [==============================] - 0s 616us/step - loss: 0.0479 - binary_accuracy: 1.0000\n",
      "Epoch 63/300\n",
      "13/13 [==============================] - 0s 461us/step - loss: 0.0477 - binary_accuracy: 1.0000\n",
      "Epoch 64/300\n",
      "13/13 [==============================] - 0s 615us/step - loss: 0.0475 - binary_accuracy: 1.0000\n",
      "Epoch 65/300\n",
      "13/13 [==============================] - 0s 1ms/step - loss: 0.0473 - binary_accuracy: 1.0000\n",
      "Epoch 66/300\n",
      "13/13 [==============================] - 0s 615us/step - loss: 0.0471 - binary_accuracy: 1.0000\n",
      "Epoch 67/300\n",
      "13/13 [==============================] - 0s 538us/step - loss: 0.0469 - binary_accuracy: 1.0000\n",
      "Epoch 68/300\n",
      "13/13 [==============================] - 0s 615us/step - loss: 0.0467 - binary_accuracy: 1.0000\n",
      "Epoch 69/300\n",
      "13/13 [==============================] - 0s 616us/step - loss: 0.0465 - binary_accuracy: 1.0000\n",
      "Epoch 70/300\n",
      "13/13 [==============================] - 0s 692us/step - loss: 0.0464 - binary_accuracy: 1.0000\n",
      "Epoch 71/300\n",
      "13/13 [==============================] - 0s 846us/step - loss: 0.0462 - binary_accuracy: 1.0000\n",
      "Epoch 72/300\n",
      "13/13 [==============================] - 0s 538us/step - loss: 0.0460 - binary_accuracy: 1.0000\n",
      "Epoch 73/300\n",
      "13/13 [==============================] - 0s 615us/step - loss: 0.0458 - binary_accuracy: 1.0000\n",
      "Epoch 74/300\n",
      "13/13 [==============================] - 0s 538us/step - loss: 0.0456 - binary_accuracy: 1.0000\n",
      "Epoch 75/300\n",
      "13/13 [==============================] - 0s 769us/step - loss: 0.0455 - binary_accuracy: 1.0000\n",
      "Epoch 76/300\n"
     ]
    },
    {
     "name": "stdout",
     "output_type": "stream",
     "text": [
      "13/13 [==============================] - 0s 692us/step - loss: 0.0453 - binary_accuracy: 1.0000\n",
      "Epoch 77/300\n",
      "13/13 [==============================] - 0s 538us/step - loss: 0.0451 - binary_accuracy: 1.0000\n",
      "Epoch 78/300\n",
      "13/13 [==============================] - 0s 538us/step - loss: 0.0450 - binary_accuracy: 1.0000\n",
      "Epoch 79/300\n",
      "13/13 [==============================] - 0s 846us/step - loss: 0.0448 - binary_accuracy: 1.0000\n",
      "Epoch 80/300\n",
      "13/13 [==============================] - 0s 615us/step - loss: 0.0446 - binary_accuracy: 1.0000\n",
      "Epoch 81/300\n",
      "13/13 [==============================] - 0s 462us/step - loss: 0.0445 - binary_accuracy: 1.0000\n",
      "Epoch 82/300\n",
      "13/13 [==============================] - 0s 615us/step - loss: 0.0443 - binary_accuracy: 1.0000\n",
      "Epoch 83/300\n",
      "13/13 [==============================] - 0s 462us/step - loss: 0.0441 - binary_accuracy: 1.0000\n",
      "Epoch 84/300\n",
      "13/13 [==============================] - 0s 461us/step - loss: 0.0440 - binary_accuracy: 1.0000\n",
      "Epoch 85/300\n",
      "13/13 [==============================] - 0s 615us/step - loss: 0.0438 - binary_accuracy: 1.0000\n",
      "Epoch 86/300\n",
      "13/13 [==============================] - 0s 1ms/step - loss: 0.0437 - binary_accuracy: 1.0000\n",
      "Epoch 87/300\n",
      "13/13 [==============================] - 0s 461us/step - loss: 0.0435 - binary_accuracy: 1.0000\n",
      "Epoch 88/300\n",
      "13/13 [==============================] - 0s 615us/step - loss: 0.0434 - binary_accuracy: 1.0000\n",
      "Epoch 89/300\n",
      "13/13 [==============================] - 0s 615us/step - loss: 0.0432 - binary_accuracy: 1.0000\n",
      "Epoch 90/300\n",
      "13/13 [==============================] - 0s 538us/step - loss: 0.0430 - binary_accuracy: 1.0000\n",
      "Epoch 91/300\n",
      "13/13 [==============================] - 0s 1ms/step - loss: 0.0429 - binary_accuracy: 1.0000\n",
      "Epoch 92/300\n",
      "13/13 [==============================] - 0s 538us/step - loss: 0.0427 - binary_accuracy: 1.0000\n",
      "Epoch 93/300\n",
      "13/13 [==============================] - 0s 538us/step - loss: 0.0426 - binary_accuracy: 1.0000\n",
      "Epoch 94/300\n",
      "13/13 [==============================] - 0s 538us/step - loss: 0.0425 - binary_accuracy: 1.0000\n",
      "Epoch 95/300\n",
      "13/13 [==============================] - 0s 692us/step - loss: 0.0423 - binary_accuracy: 1.0000\n",
      "Epoch 96/300\n",
      "13/13 [==============================] - 0s 1ms/step - loss: 0.0422 - binary_accuracy: 1.0000\n",
      "Epoch 97/300\n",
      "13/13 [==============================] - 0s 461us/step - loss: 0.0420 - binary_accuracy: 1.0000\n",
      "Epoch 98/300\n",
      "13/13 [==============================] - 0s 538us/step - loss: 0.0419 - binary_accuracy: 1.0000\n",
      "Epoch 99/300\n",
      "13/13 [==============================] - 0s 538us/step - loss: 0.0417 - binary_accuracy: 1.0000\n",
      "Epoch 100/300\n",
      "13/13 [==============================] - 0s 538us/step - loss: 0.0416 - binary_accuracy: 1.0000\n",
      "Epoch 101/300\n",
      "13/13 [==============================] - 0s 846us/step - loss: 0.0415 - binary_accuracy: 1.0000\n",
      "Epoch 102/300\n",
      "13/13 [==============================] - 0s 846us/step - loss: 0.0413 - binary_accuracy: 1.0000\n",
      "Epoch 103/300\n",
      "13/13 [==============================] - 0s 539us/step - loss: 0.0412 - binary_accuracy: 1.0000\n",
      "Epoch 104/300\n",
      "13/13 [==============================] - 0s 538us/step - loss: 0.0410 - binary_accuracy: 1.0000\n",
      "Epoch 105/300\n",
      "13/13 [==============================] - 0s 615us/step - loss: 0.0409 - binary_accuracy: 1.0000\n",
      "Epoch 106/300\n",
      "13/13 [==============================] - 0s 692us/step - loss: 0.0408 - binary_accuracy: 1.0000\n",
      "Epoch 107/300\n",
      "13/13 [==============================] - 0s 615us/step - loss: 0.0406 - binary_accuracy: 1.0000\n",
      "Epoch 108/300\n",
      "13/13 [==============================] - 0s 923us/step - loss: 0.0405 - binary_accuracy: 1.0000\n",
      "Epoch 109/300\n",
      "13/13 [==============================] - 0s 539us/step - loss: 0.0404 - binary_accuracy: 1.0000\n",
      "Epoch 110/300\n",
      "13/13 [==============================] - 0s 461us/step - loss: 0.0402 - binary_accuracy: 1.0000\n",
      "Epoch 111/300\n",
      "13/13 [==============================] - 0s 846us/step - loss: 0.0401 - binary_accuracy: 1.0000\n",
      "Epoch 112/300\n",
      "13/13 [==============================] - 0s 538us/step - loss: 0.0400 - binary_accuracy: 1.0000\n",
      "Epoch 113/300\n",
      "13/13 [==============================] - 0s 770us/step - loss: 0.0399 - binary_accuracy: 1.0000\n",
      "Epoch 114/300\n",
      "13/13 [==============================] - 0s 538us/step - loss: 0.0397 - binary_accuracy: 1.0000\n",
      "Epoch 115/300\n",
      "13/13 [==============================] - 0s 538us/step - loss: 0.0396 - binary_accuracy: 1.0000\n",
      "Epoch 116/300\n",
      "13/13 [==============================] - 0s 616us/step - loss: 0.0395 - binary_accuracy: 1.0000\n",
      "Epoch 117/300\n",
      "13/13 [==============================] - 0s 615us/step - loss: 0.0393 - binary_accuracy: 1.0000\n",
      "Epoch 118/300\n",
      "13/13 [==============================] - 0s 538us/step - loss: 0.0392 - binary_accuracy: 1.0000\n",
      "Epoch 119/300\n",
      "13/13 [==============================] - 0s 461us/step - loss: 0.0391 - binary_accuracy: 1.0000\n",
      "Epoch 120/300\n",
      "13/13 [==============================] - 0s 846us/step - loss: 0.0390 - binary_accuracy: 1.0000\n",
      "Epoch 121/300\n",
      "13/13 [==============================] - 0s 616us/step - loss: 0.0389 - binary_accuracy: 1.0000\n",
      "Epoch 122/300\n",
      "13/13 [==============================] - 0s 538us/step - loss: 0.0387 - binary_accuracy: 1.0000\n",
      "Epoch 123/300\n",
      "13/13 [==============================] - 0s 615us/step - loss: 0.0386 - binary_accuracy: 1.0000\n",
      "Epoch 124/300\n",
      "13/13 [==============================] - 0s 538us/step - loss: 0.0385 - binary_accuracy: 1.0000\n",
      "Epoch 125/300\n",
      "13/13 [==============================] - 0s 692us/step - loss: 0.0384 - binary_accuracy: 1.0000\n",
      "Epoch 126/300\n",
      "13/13 [==============================] - 0s 615us/step - loss: 0.0383 - binary_accuracy: 1.0000\n",
      "Epoch 127/300\n",
      "13/13 [==============================] - 0s 615us/step - loss: 0.0381 - binary_accuracy: 1.0000\n",
      "Epoch 128/300\n",
      "13/13 [==============================] - 0s 538us/step - loss: 0.0380 - binary_accuracy: 1.0000\n",
      "Epoch 129/300\n",
      "13/13 [==============================] - 0s 538us/step - loss: 0.0379 - binary_accuracy: 1.0000\n",
      "Epoch 130/300\n",
      "13/13 [==============================] - 0s 769us/step - loss: 0.0378 - binary_accuracy: 1.0000\n",
      "Epoch 131/300\n",
      "13/13 [==============================] - 0s 539us/step - loss: 0.0377 - binary_accuracy: 1.0000\n",
      "Epoch 132/300\n",
      "13/13 [==============================] - 0s 769us/step - loss: 0.0376 - binary_accuracy: 1.0000\n",
      "Epoch 133/300\n",
      "13/13 [==============================] - 0s 692us/step - loss: 0.0374 - binary_accuracy: 1.0000\n",
      "Epoch 134/300\n",
      "13/13 [==============================] - 0s 538us/step - loss: 0.0373 - binary_accuracy: 1.0000\n",
      "Epoch 135/300\n",
      "13/13 [==============================] - 0s 538us/step - loss: 0.0372 - binary_accuracy: 1.0000\n",
      "Epoch 136/300\n",
      "13/13 [==============================] - 0s 693us/step - loss: 0.0371 - binary_accuracy: 1.0000\n",
      "Epoch 137/300\n",
      "13/13 [==============================] - 0s 615us/step - loss: 0.0370 - binary_accuracy: 1.0000\n",
      "Epoch 138/300\n",
      "13/13 [==============================] - 0s 538us/step - loss: 0.0369 - binary_accuracy: 1.0000\n",
      "Epoch 139/300\n",
      "13/13 [==============================] - 0s 615us/step - loss: 0.0368 - binary_accuracy: 1.0000\n",
      "Epoch 140/300\n",
      "13/13 [==============================] - 0s 616us/step - loss: 0.0367 - binary_accuracy: 1.0000\n",
      "Epoch 141/300\n",
      "13/13 [==============================] - 0s 692us/step - loss: 0.0366 - binary_accuracy: 1.0000\n",
      "Epoch 142/300\n",
      "13/13 [==============================] - 0s 615us/step - loss: 0.0365 - binary_accuracy: 1.0000\n",
      "Epoch 143/300\n",
      "13/13 [==============================] - 0s 692us/step - loss: 0.0363 - binary_accuracy: 1.0000\n",
      "Epoch 144/300\n",
      "13/13 [==============================] - 0s 538us/step - loss: 0.0362 - binary_accuracy: 1.0000\n",
      "Epoch 145/300\n",
      "13/13 [==============================] - 0s 538us/step - loss: 0.0361 - binary_accuracy: 1.0000\n",
      "Epoch 146/300\n",
      "13/13 [==============================] - 0s 692us/step - loss: 0.0360 - binary_accuracy: 1.0000\n",
      "Epoch 147/300\n",
      "13/13 [==============================] - 0s 692us/step - loss: 0.0359 - binary_accuracy: 1.0000\n",
      "Epoch 148/300\n",
      "13/13 [==============================] - 0s 846us/step - loss: 0.0358 - binary_accuracy: 1.0000\n",
      "Epoch 149/300\n",
      "13/13 [==============================] - 0s 538us/step - loss: 0.0357 - binary_accuracy: 1.0000\n",
      "Epoch 150/300\n"
     ]
    },
    {
     "name": "stdout",
     "output_type": "stream",
     "text": [
      "13/13 [==============================] - 0s 923us/step - loss: 0.0356 - binary_accuracy: 1.0000\n",
      "Epoch 151/300\n",
      "13/13 [==============================] - 0s 538us/step - loss: 0.0355 - binary_accuracy: 1.0000\n",
      "Epoch 152/300\n",
      "13/13 [==============================] - 0s 462us/step - loss: 0.0354 - binary_accuracy: 1.0000\n",
      "Epoch 153/300\n",
      "13/13 [==============================] - 0s 538us/step - loss: 0.0353 - binary_accuracy: 1.0000\n",
      "Epoch 154/300\n",
      "13/13 [==============================] - 0s 847us/step - loss: 0.0352 - binary_accuracy: 1.0000\n",
      "Epoch 155/300\n",
      "13/13 [==============================] - 0s 692us/step - loss: 0.0351 - binary_accuracy: 1.0000\n",
      "Epoch 156/300\n",
      "13/13 [==============================] - 0s 538us/step - loss: 0.0350 - binary_accuracy: 1.0000\n",
      "Epoch 157/300\n",
      "13/13 [==============================] - 0s 692us/step - loss: 0.0349 - binary_accuracy: 1.0000\n",
      "Epoch 158/300\n",
      "13/13 [==============================] - 0s 538us/step - loss: 0.0348 - binary_accuracy: 1.0000\n",
      "Epoch 159/300\n",
      "13/13 [==============================] - 0s 615us/step - loss: 0.0347 - binary_accuracy: 1.0000\n",
      "Epoch 160/300\n",
      "13/13 [==============================] - 0s 923us/step - loss: 0.0346 - binary_accuracy: 1.0000\n",
      "Epoch 161/300\n",
      "13/13 [==============================] - 0s 692us/step - loss: 0.0345 - binary_accuracy: 1.0000\n",
      "Epoch 162/300\n",
      "13/13 [==============================] - 0s 538us/step - loss: 0.0344 - binary_accuracy: 1.0000\n",
      "Epoch 163/300\n",
      "13/13 [==============================] - 0s 692us/step - loss: 0.0343 - binary_accuracy: 1.0000\n",
      "Epoch 164/300\n",
      "13/13 [==============================] - 0s 615us/step - loss: 0.0342 - binary_accuracy: 1.0000\n",
      "Epoch 165/300\n",
      "13/13 [==============================] - 0s 769us/step - loss: 0.0341 - binary_accuracy: 1.0000\n",
      "Epoch 166/300\n",
      "13/13 [==============================] - 0s 538us/step - loss: 0.0340 - binary_accuracy: 1.0000\n",
      "Epoch 167/300\n",
      "13/13 [==============================] - 0s 692us/step - loss: 0.0339 - binary_accuracy: 1.0000\n",
      "Epoch 168/300\n",
      "13/13 [==============================] - 0s 616us/step - loss: 0.0338 - binary_accuracy: 1.0000\n",
      "Epoch 169/300\n",
      "13/13 [==============================] - 0s 461us/step - loss: 0.0337 - binary_accuracy: 1.0000\n",
      "Epoch 170/300\n",
      "13/13 [==============================] - 0s 846us/step - loss: 0.0337 - binary_accuracy: 1.0000\n",
      "Epoch 171/300\n",
      "13/13 [==============================] - 0s 692us/step - loss: 0.0336 - binary_accuracy: 1.0000\n",
      "Epoch 172/300\n",
      "13/13 [==============================] - 0s 693us/step - loss: 0.0335 - binary_accuracy: 1.0000\n",
      "Epoch 173/300\n",
      "13/13 [==============================] - 0s 461us/step - loss: 0.0334 - binary_accuracy: 1.0000\n",
      "Epoch 174/300\n",
      "13/13 [==============================] - 0s 615us/step - loss: 0.0333 - binary_accuracy: 1.0000\n",
      "Epoch 175/300\n",
      "13/13 [==============================] - 0s 692us/step - loss: 0.0332 - binary_accuracy: 1.0000\n",
      "Epoch 176/300\n",
      "13/13 [==============================] - 0s 1ms/step - loss: 0.0331 - binary_accuracy: 1.0000\n",
      "Epoch 177/300\n",
      "13/13 [==============================] - 0s 615us/step - loss: 0.0330 - binary_accuracy: 1.0000\n",
      "Epoch 178/300\n",
      "13/13 [==============================] - 0s 769us/step - loss: 0.0329 - binary_accuracy: 1.0000\n",
      "Epoch 179/300\n",
      "13/13 [==============================] - 0s 692us/step - loss: 0.0328 - binary_accuracy: 1.0000\n",
      "Epoch 180/300\n",
      "13/13 [==============================] - 0s 1ms/step - loss: 0.0328 - binary_accuracy: 1.0000\n",
      "Epoch 181/300\n",
      "13/13 [==============================] - 0s 846us/step - loss: 0.0327 - binary_accuracy: 1.0000\n",
      "Epoch 182/300\n",
      "13/13 [==============================] - 0s 538us/step - loss: 0.0326 - binary_accuracy: 1.0000\n",
      "Epoch 183/300\n",
      "13/13 [==============================] - 0s 769us/step - loss: 0.0325 - binary_accuracy: 1.0000\n",
      "Epoch 184/300\n",
      "13/13 [==============================] - 0s 615us/step - loss: 0.0324 - binary_accuracy: 1.0000\n",
      "Epoch 185/300\n",
      "13/13 [==============================] - 0s 461us/step - loss: 0.0323 - binary_accuracy: 1.0000\n",
      "Epoch 186/300\n",
      "13/13 [==============================] - 0s 1000us/step - loss: 0.0322 - binary_accuracy: 1.0000\n",
      "Epoch 187/300\n",
      "13/13 [==============================] - 0s 692us/step - loss: 0.0321 - binary_accuracy: 1.0000\n",
      "Epoch 188/300\n",
      "13/13 [==============================] - 0s 615us/step - loss: 0.0321 - binary_accuracy: 1.0000\n",
      "Epoch 189/300\n",
      "13/13 [==============================] - 0s 461us/step - loss: 0.0320 - binary_accuracy: 1.0000\n",
      "Epoch 190/300\n",
      "13/13 [==============================] - 0s 615us/step - loss: 0.0319 - binary_accuracy: 1.0000\n",
      "Epoch 191/300\n",
      "13/13 [==============================] - 0s 539us/step - loss: 0.0318 - binary_accuracy: 1.0000\n",
      "Epoch 192/300\n",
      "13/13 [==============================] - 0s 998us/step - loss: 0.0317 - binary_accuracy: 1.0000\n",
      "Epoch 193/300\n",
      "13/13 [==============================] - 0s 692us/step - loss: 0.0316 - binary_accuracy: 1.0000\n",
      "Epoch 194/300\n",
      "13/13 [==============================] - 0s 692us/step - loss: 0.0316 - binary_accuracy: 1.0000\n",
      "Epoch 195/300\n",
      "13/13 [==============================] - 0s 616us/step - loss: 0.0315 - binary_accuracy: 1.0000\n",
      "Epoch 196/300\n",
      "13/13 [==============================] - 0s 538us/step - loss: 0.0314 - binary_accuracy: 1.0000\n",
      "Epoch 197/300\n",
      "13/13 [==============================] - 0s 615us/step - loss: 0.0313 - binary_accuracy: 1.0000\n",
      "Epoch 198/300\n",
      "13/13 [==============================] - 0s 538us/step - loss: 0.0312 - binary_accuracy: 1.0000\n",
      "Epoch 199/300\n",
      "13/13 [==============================] - 0s 461us/step - loss: 0.0311 - binary_accuracy: 1.0000\n",
      "Epoch 200/300\n",
      "13/13 [==============================] - 0s 615us/step - loss: 0.0311 - binary_accuracy: 1.0000\n",
      "Epoch 201/300\n",
      "13/13 [==============================] - 0s 461us/step - loss: 0.0310 - binary_accuracy: 1.0000\n",
      "Epoch 202/300\n",
      "13/13 [==============================] - 0s 693us/step - loss: 0.0309 - binary_accuracy: 1.0000\n",
      "Epoch 203/300\n",
      "13/13 [==============================] - 0s 846us/step - loss: 0.0308 - binary_accuracy: 1.0000\n",
      "Epoch 204/300\n",
      "13/13 [==============================] - 0s 615us/step - loss: 0.0307 - binary_accuracy: 1.0000\n",
      "Epoch 205/300\n",
      "13/13 [==============================] - 0s 538us/step - loss: 0.0307 - binary_accuracy: 1.0000\n",
      "Epoch 206/300\n",
      "13/13 [==============================] - 0s 615us/step - loss: 0.0306 - binary_accuracy: 1.0000\n",
      "Epoch 207/300\n",
      "13/13 [==============================] - 0s 538us/step - loss: 0.0305 - binary_accuracy: 1.0000\n",
      "Epoch 208/300\n",
      "13/13 [==============================] - 0s 538us/step - loss: 0.0304 - binary_accuracy: 1.0000\n",
      "Epoch 209/300\n",
      "13/13 [==============================] - 0s 616us/step - loss: 0.0304 - binary_accuracy: 1.0000\n",
      "Epoch 210/300\n",
      "13/13 [==============================] - 0s 1ms/step - loss: 0.0303 - binary_accuracy: 1.0000\n",
      "Epoch 211/300\n",
      "13/13 [==============================] - 0s 539us/step - loss: 0.0302 - binary_accuracy: 1.0000\n",
      "Epoch 212/300\n",
      "13/13 [==============================] - 0s 615us/step - loss: 0.0301 - binary_accuracy: 1.0000\n",
      "Epoch 213/300\n",
      "13/13 [==============================] - 0s 692us/step - loss: 0.0301 - binary_accuracy: 1.0000\n",
      "Epoch 214/300\n",
      "13/13 [==============================] - 0s 538us/step - loss: 0.0300 - binary_accuracy: 1.0000\n",
      "Epoch 215/300\n",
      "13/13 [==============================] - 0s 538us/step - loss: 0.0299 - binary_accuracy: 1.0000\n",
      "Epoch 216/300\n",
      "13/13 [==============================] - 0s 692us/step - loss: 0.0298 - binary_accuracy: 1.0000\n",
      "Epoch 217/300\n",
      "13/13 [==============================] - 0s 461us/step - loss: 0.0298 - binary_accuracy: 1.0000\n",
      "Epoch 218/300\n",
      "13/13 [==============================] - 0s 692us/step - loss: 0.0297 - binary_accuracy: 1.0000\n",
      "Epoch 219/300\n",
      "13/13 [==============================] - 0s 539us/step - loss: 0.0296 - binary_accuracy: 1.0000\n",
      "Epoch 220/300\n",
      "13/13 [==============================] - 0s 1ms/step - loss: 0.0295 - binary_accuracy: 1.0000\n",
      "Epoch 221/300\n",
      "13/13 [==============================] - 0s 615us/step - loss: 0.0295 - binary_accuracy: 1.0000\n",
      "Epoch 222/300\n",
      "13/13 [==============================] - 0s 538us/step - loss: 0.0294 - binary_accuracy: 1.0000\n",
      "Epoch 223/300\n",
      "13/13 [==============================] - 0s 615us/step - loss: 0.0293 - binary_accuracy: 1.0000\n",
      "Epoch 224/300\n"
     ]
    },
    {
     "name": "stdout",
     "output_type": "stream",
     "text": [
      "13/13 [==============================] - 0s 539us/step - loss: 0.0292 - binary_accuracy: 1.0000\n",
      "Epoch 225/300\n",
      "13/13 [==============================] - 0s 692us/step - loss: 0.0292 - binary_accuracy: 1.0000\n",
      "Epoch 226/300\n",
      "13/13 [==============================] - 0s 538us/step - loss: 0.0291 - binary_accuracy: 1.0000\n",
      "Epoch 227/300\n",
      "13/13 [==============================] - 0s 461us/step - loss: 0.0290 - binary_accuracy: 1.0000\n",
      "Epoch 228/300\n",
      "13/13 [==============================] - 0s 615us/step - loss: 0.0290 - binary_accuracy: 1.0000\n",
      "Epoch 229/300\n",
      "13/13 [==============================] - 0s 462us/step - loss: 0.0289 - binary_accuracy: 1.0000\n",
      "Epoch 230/300\n",
      "13/13 [==============================] - 0s 615us/step - loss: 0.0288 - binary_accuracy: 1.0000\n",
      "Epoch 231/300\n",
      "13/13 [==============================] - 0s 692us/step - loss: 0.0287 - binary_accuracy: 1.0000\n",
      "Epoch 232/300\n",
      "13/13 [==============================] - 0s 1ms/step - loss: 0.0287 - binary_accuracy: 1.0000\n",
      "Epoch 233/300\n",
      "13/13 [==============================] - 0s 461us/step - loss: 0.0286 - binary_accuracy: 1.0000\n",
      "Epoch 234/300\n",
      "13/13 [==============================] - 0s 538us/step - loss: 0.0285 - binary_accuracy: 1.0000\n",
      "Epoch 235/300\n",
      "13/13 [==============================] - 0s 538us/step - loss: 0.0285 - binary_accuracy: 1.0000\n",
      "Epoch 236/300\n",
      "13/13 [==============================] - 0s 462us/step - loss: 0.0284 - binary_accuracy: 1.0000\n",
      "Epoch 237/300\n",
      "13/13 [==============================] - 0s 692us/step - loss: 0.0283 - binary_accuracy: 1.0000\n",
      "Epoch 238/300\n",
      "13/13 [==============================] - 0s 538us/step - loss: 0.0283 - binary_accuracy: 1.0000\n",
      "Epoch 239/300\n",
      "13/13 [==============================] - 0s 538us/step - loss: 0.0282 - binary_accuracy: 1.0000\n",
      "Epoch 240/300\n",
      "13/13 [==============================] - 0s 693us/step - loss: 0.0281 - binary_accuracy: 1.0000\n",
      "Epoch 241/300\n",
      "13/13 [==============================] - 0s 538us/step - loss: 0.0281 - binary_accuracy: 1.0000\n",
      "Epoch 242/300\n",
      "13/13 [==============================] - 0s 615us/step - loss: 0.0280 - binary_accuracy: 1.0000\n",
      "Epoch 243/300\n",
      "13/13 [==============================] - 0s 770us/step - loss: 0.0279 - binary_accuracy: 1.0000\n",
      "Epoch 244/300\n",
      "13/13 [==============================] - 0s 539us/step - loss: 0.0279 - binary_accuracy: 1.0000\n",
      "Epoch 245/300\n",
      "13/13 [==============================] - 0s 462us/step - loss: 0.0278 - binary_accuracy: 1.0000\n",
      "Epoch 246/300\n",
      "13/13 [==============================] - 0s 693us/step - loss: 0.0277 - binary_accuracy: 1.0000\n",
      "Epoch 247/300\n",
      "13/13 [==============================] - 0s 615us/step - loss: 0.0277 - binary_accuracy: 1.0000\n",
      "Epoch 248/300\n",
      "13/13 [==============================] - 0s 1ms/step - loss: 0.0276 - binary_accuracy: 1.0000\n",
      "Epoch 249/300\n",
      "13/13 [==============================] - 0s 615us/step - loss: 0.0275 - binary_accuracy: 1.0000\n",
      "Epoch 250/300\n",
      "13/13 [==============================] - 0s 538us/step - loss: 0.0275 - binary_accuracy: 1.0000\n",
      "Epoch 251/300\n",
      "13/13 [==============================] - 0s 846us/step - loss: 0.0274 - binary_accuracy: 1.0000\n",
      "Epoch 252/300\n",
      "13/13 [==============================] - 0s 615us/step - loss: 0.0273 - binary_accuracy: 1.0000\n",
      "Epoch 253/300\n",
      "13/13 [==============================] - 0s 538us/step - loss: 0.0273 - binary_accuracy: 1.0000\n",
      "Epoch 254/300\n",
      "13/13 [==============================] - 0s 846us/step - loss: 0.0272 - binary_accuracy: 1.0000\n",
      "Epoch 255/300\n",
      "13/13 [==============================] - 0s 692us/step - loss: 0.0271 - binary_accuracy: 1.0000\n",
      "Epoch 256/300\n",
      "13/13 [==============================] - 0s 769us/step - loss: 0.0271 - binary_accuracy: 1.0000\n",
      "Epoch 257/300\n",
      "13/13 [==============================] - 0s 538us/step - loss: 0.0270 - binary_accuracy: 1.0000\n",
      "Epoch 258/300\n",
      "13/13 [==============================] - 0s 615us/step - loss: 0.0270 - binary_accuracy: 1.0000\n",
      "Epoch 259/300\n",
      "13/13 [==============================] - 0s 615us/step - loss: 0.0269 - binary_accuracy: 1.0000\n",
      "Epoch 260/300\n",
      "13/13 [==============================] - 0s 846us/step - loss: 0.0268 - binary_accuracy: 1.0000\n",
      "Epoch 261/300\n",
      "13/13 [==============================] - 0s 615us/step - loss: 0.0268 - binary_accuracy: 1.0000\n",
      "Epoch 262/300\n",
      "13/13 [==============================] - 0s 692us/step - loss: 0.0267 - binary_accuracy: 1.0000\n",
      "Epoch 263/300\n",
      "13/13 [==============================] - 0s 615us/step - loss: 0.0267 - binary_accuracy: 1.0000\n",
      "Epoch 264/300\n",
      "13/13 [==============================] - 0s 539us/step - loss: 0.0266 - binary_accuracy: 1.0000\n",
      "Epoch 265/300\n",
      "13/13 [==============================] - 0s 923us/step - loss: 0.0265 - binary_accuracy: 1.0000\n",
      "Epoch 266/300\n",
      "13/13 [==============================] - 0s 692us/step - loss: 0.0265 - binary_accuracy: 1.0000\n",
      "Epoch 267/300\n",
      "13/13 [==============================] - 0s 692us/step - loss: 0.0264 - binary_accuracy: 1.0000\n",
      "Epoch 268/300\n",
      "13/13 [==============================] - 0s 538us/step - loss: 0.0264 - binary_accuracy: 1.0000\n",
      "Epoch 269/300\n",
      "13/13 [==============================] - 0s 615us/step - loss: 0.0263 - binary_accuracy: 1.0000\n",
      "Epoch 270/300\n",
      "13/13 [==============================] - 0s 615us/step - loss: 0.0262 - binary_accuracy: 1.0000\n",
      "Epoch 271/300\n",
      "13/13 [==============================] - 0s 769us/step - loss: 0.0262 - binary_accuracy: 1.0000\n",
      "Epoch 272/300\n",
      "13/13 [==============================] - 0s 615us/step - loss: 0.0261 - binary_accuracy: 1.0000\n",
      "Epoch 273/300\n",
      "13/13 [==============================] - 0s 615us/step - loss: 0.0261 - binary_accuracy: 1.0000\n",
      "Epoch 274/300\n",
      "13/13 [==============================] - 0s 616us/step - loss: 0.0260 - binary_accuracy: 1.0000\n",
      "Epoch 275/300\n",
      "13/13 [==============================] - 0s 538us/step - loss: 0.0259 - binary_accuracy: 1.0000\n",
      "Epoch 276/300\n",
      "13/13 [==============================] - 0s 923us/step - loss: 0.0259 - binary_accuracy: 1.0000\n",
      "Epoch 277/300\n",
      "13/13 [==============================] - 0s 692us/step - loss: 0.0258 - binary_accuracy: 1.0000\n",
      "Epoch 278/300\n",
      "13/13 [==============================] - 0s 538us/step - loss: 0.0258 - binary_accuracy: 1.0000\n",
      "Epoch 279/300\n",
      "13/13 [==============================] - 0s 692us/step - loss: 0.0257 - binary_accuracy: 1.0000\n",
      "Epoch 280/300\n",
      "13/13 [==============================] - 0s 692us/step - loss: 0.0256 - binary_accuracy: 1.0000\n",
      "Epoch 281/300\n",
      "13/13 [==============================] - 0s 1ms/step - loss: 0.0256 - binary_accuracy: 1.0000\n",
      "Epoch 282/300\n",
      "13/13 [==============================] - 0s 769us/step - loss: 0.0255 - binary_accuracy: 1.0000\n",
      "Epoch 283/300\n",
      "13/13 [==============================] - 0s 692us/step - loss: 0.0255 - binary_accuracy: 1.0000\n",
      "Epoch 284/300\n",
      "13/13 [==============================] - 0s 615us/step - loss: 0.0254 - binary_accuracy: 1.0000\n",
      "Epoch 285/300\n",
      "13/13 [==============================] - 0s 615us/step - loss: 0.0254 - binary_accuracy: 1.0000\n",
      "Epoch 286/300\n",
      "13/13 [==============================] - 0s 538us/step - loss: 0.0253 - binary_accuracy: 1.0000\n",
      "Epoch 287/300\n",
      "13/13 [==============================] - 0s 615us/step - loss: 0.0253 - binary_accuracy: 1.0000\n",
      "Epoch 288/300\n",
      "13/13 [==============================] - 0s 1ms/step - loss: 0.0252 - binary_accuracy: 1.0000\n",
      "Epoch 289/300\n",
      "13/13 [==============================] - 0s 769us/step - loss: 0.0251 - binary_accuracy: 1.0000\n",
      "Epoch 290/300\n",
      "13/13 [==============================] - 0s 615us/step - loss: 0.0251 - binary_accuracy: 1.0000\n",
      "Epoch 291/300\n",
      "13/13 [==============================] - 0s 538us/step - loss: 0.0250 - binary_accuracy: 1.0000\n",
      "Epoch 292/300\n",
      "13/13 [==============================] - 0s 692us/step - loss: 0.0250 - binary_accuracy: 1.0000\n",
      "Epoch 293/300\n",
      "13/13 [==============================] - 0s 692us/step - loss: 0.0249 - binary_accuracy: 1.0000\n",
      "Epoch 294/300\n",
      "13/13 [==============================] - 0s 693us/step - loss: 0.0249 - binary_accuracy: 1.0000\n",
      "Epoch 295/300\n",
      "13/13 [==============================] - 0s 615us/step - loss: 0.0248 - binary_accuracy: 1.0000\n",
      "Epoch 296/300\n",
      "13/13 [==============================] - 0s 538us/step - loss: 0.0248 - binary_accuracy: 1.0000\n",
      "Epoch 297/300\n",
      "13/13 [==============================] - 0s 539us/step - loss: 0.0247 - binary_accuracy: 1.0000\n",
      "Epoch 298/300\n"
     ]
    },
    {
     "name": "stdout",
     "output_type": "stream",
     "text": [
      "13/13 [==============================] - 0s 1ms/step - loss: 0.0247 - binary_accuracy: 1.0000\n",
      "Epoch 299/300\n",
      "13/13 [==============================] - 0s 692us/step - loss: 0.0246 - binary_accuracy: 1.0000\n",
      "Epoch 300/300\n",
      "13/13 [==============================] - 0s 615us/step - loss: 0.0246 - binary_accuracy: 1.0000\n"
     ]
    },
    {
     "data": {
      "text/plain": [
       "<tensorflow.python.keras.callbacks.History at 0x24838c7b670>"
      ]
     },
     "execution_count": 34,
     "metadata": {},
     "output_type": "execute_result"
    }
   ],
   "source": [
    "model.fit(x, y, batch_size=1, epochs=300)"
   ]
  },
  {
   "cell_type": "code",
   "execution_count": 38,
   "metadata": {},
   "outputs": [
    {
     "data": {
      "text/plain": [
       "array([[0.50149435],\n",
       "       [0.89141506],\n",
       "       [0.9591024 ]], dtype=float32)"
      ]
     },
     "execution_count": 38,
     "metadata": {},
     "output_type": "execute_result"
    },
    {
     "data": {
      "image/png": "[encoded data removed]",
      "text/plain": [
       "<Figure size 432x288 with 1 Axes>"
      ]
     },
     "metadata": {
      "needs_background": "light"
     },
     "output_type": "display_data"
    }
   ],
   "source": [
    "plt.plot(x, model.predict(x), 'b', x,y,'k.')\n",
    "model.predict([1,3,4])"
   ]
  }
 ],
 "metadata": {
  "kernelspec": {
   "display_name": "Python 3",
   "language": "python",
   "name": "python3"
  },
  "language_info": {
   "codemirror_mode": {
    "name": "ipython",
    "version": 3
   },
   "file_extension": ".py",
   "mimetype": "text/x-python",
   "name": "python",
   "nbconvert_exporter": "python",
   "pygments_lexer": "ipython3",
   "version": "3.8.3"
  }
 },
 "nbformat": 4,
 "nbformat_minor": 4
}
