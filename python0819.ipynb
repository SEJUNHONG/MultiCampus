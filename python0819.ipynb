{
 "cells": [
  {
   "cell_type": "markdown",
   "metadata": {},
   "source": [
    "# 연습문제 1. n-gram\n",
    "\n",
    " - \"hello\" -> 2-gram -> \"he\", \"el\", \"ll\", \"lo\"\n",
    " - => 임의의 단어를 입력 받고, n을 입력 받은 다음, n-gram 출력\n",
    " - 입력 : hello 2\n",
    " - 출력 : \"he\", \"el\", \"ll\", \"lo\""
   ]
  },
  {
   "cell_type": "code",
   "execution_count": 4,
   "metadata": {},
   "outputs": [
    {
     "name": "stdout",
     "output_type": "stream",
     "text": [
      "hello\n",
      "2\n"
     ]
    },
    {
     "data": {
      "text/plain": [
       "['he', 'el', 'll', 'lo']"
      ]
     },
     "execution_count": 4,
     "metadata": {},
     "output_type": "execute_result"
    }
   ],
   "source": [
    "name=input()\n",
    "N=int(input())\n",
    "ngram=[]\n",
    "for i in range(len(name)-N+1):\n",
    "    ngram.append(name[i:i+N])\n",
    "ngram"
   ]
  },
  {
   "cell_type": "markdown",
   "metadata": {},
   "source": [
    "# 연습문제 2. 파일명 포맷팅\n",
    "\n",
    " - 입력 : 1.jpg, 10.jpg, 2.jpg\n",
    " - 출력 : ['001.jpg', '010.jpg', '002.jpg']"
   ]
  },
  {
   "cell_type": "code",
   "execution_count": 14,
   "metadata": {},
   "outputs": [
    {
     "data": {
      "text/plain": [
       "['001.jpg', '010.jpg', '002.jpg']"
      ]
     },
     "execution_count": 14,
     "metadata": {},
     "output_type": "execute_result"
    }
   ],
   "source": [
    "filelist=['1.jpg', '10.jpg', '2.jpg']\n",
    "newfilelist=[]\n",
    "for i in range (len(filelist)):\n",
    "    cnt=len(filelist[i].split(\".\")[0])\n",
    "    zero=3-cnt\n",
    "    newfilelist.append(\"0\"*zero+filelist[i].split(\".\")[0]+\".\"+filelist[i].split(\".\")[1])\n",
    "newfilelist"
   ]
  }
 ],
 "metadata": {
  "kernelspec": {
   "display_name": "Python 3",
   "language": "python",
   "name": "python3"
  },
  "language_info": {
   "codemirror_mode": {
    "name": "ipython",
    "version": 3
   },
   "file_extension": ".py",
   "mimetype": "text/x-python",
   "name": "python",
   "nbconvert_exporter": "python",
   "pygments_lexer": "ipython3",
   "version": "3.8.3"
  }
 },
 "nbformat": 4,
 "nbformat_minor": 4
}
