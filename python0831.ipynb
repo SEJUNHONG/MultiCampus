{
 "cells": [
  {
   "cell_type": "markdown",
   "metadata": {},
   "source": [
    "# 1. 정규화=(각 열 데이터-각 열 최솟값) / (각 열 최댓값-각 열 최솟값)\n",
    "\n",
    "바울, 할로윈 열에 대해 정규화 작업 수행"
   ]
  },
  {
   "cell_type": "code",
   "execution_count": 1,
   "metadata": {},
   "outputs": [],
   "source": [
    "from math import sqrt"
   ]
  },
  {
   "cell_type": "code",
   "execution_count": 2,
   "metadata": {},
   "outputs": [],
   "source": [
    "critics={'BTS':{'암수살인':5, '바울':4, '할로윈':1.5},\n",
    "    '손흥민':{'바울':5, '할로윈':2},\n",
    "    '레드벨벳':{'암수살인':2.5, '바울':2, '할로윈':1},\n",
    "    '트와이스':{'암수살인':3.5, '바울':4, '할로윈':5}\n",
    "}"
   ]
  },
  {
   "cell_type": "code",
   "execution_count": 3,
   "metadata": {},
   "outputs": [
    {
     "name": "stdout",
     "output_type": "stream",
     "text": [
      "0.6666666666666666\n",
      "0.125\n",
      "1.0\n",
      "0.25\n",
      "0.0\n",
      "0.0\n",
      "0.6666666666666666\n",
      "1.0\n"
     ]
    }
   ],
   "source": [
    "baul=[]\n",
    "halo=[]\n",
    "for c in critics:\n",
    "    for m in critics.get(c):\n",
    "        if m=='바울':\n",
    "        #print(m)\n",
    "            baul.append(critics.get(c).get(m))\n",
    "            #print(critics.get(c).get(m))\n",
    "        if m=='할로윈':\n",
    "            halo.append(critics.get(c).get(m))\n",
    "for c in critics:\n",
    "    for m in critics.get(c):\n",
    "        if m=='바울':\n",
    "            print((critics.get(c).get(m)-min(baul))/(max(baul)-min(baul)))\n",
    "        if m=='할로윈':\n",
    "            print((critics.get(c).get(m)-min(halo))/(max(halo)-min(halo)))"
   ]
  },
  {
   "cell_type": "markdown",
   "metadata": {},
   "source": [
    "# 2. 소녀시대와 거리가 가장 가까운 그룹이 누구인지 조사하시오."
   ]
  },
  {
   "cell_type": "code",
   "execution_count": 4,
   "metadata": {},
   "outputs": [],
   "source": [
    "critics = {\n",
    "\n",
    "    '레드벨벳': {\n",
    "\n",
    "        '택시운전사': 2.5,\n",
    "\n",
    "        '겨울왕국': 3.5,\n",
    "\n",
    "        '리빙라스베가스': 3.0,\n",
    "\n",
    "        '넘버3': 3.5,\n",
    "\n",
    "        '사랑과전쟁': 2.5,\n",
    "\n",
    "        '세계대전': 3.0,\n",
    "\n",
    "    },\n",
    "\n",
    "    'BTS': {\n",
    "\n",
    "        '택시운전사': 1.0,\n",
    "\n",
    "        '겨울왕국': 4.5,\n",
    "\n",
    "        '리빙라스베가스': 0.5,\n",
    "\n",
    "        '넘버3': 1.5,\n",
    "\n",
    "        '사랑과전쟁': 4.5,\n",
    "\n",
    "        '세계대전': 5.0,\n",
    "\n",
    "    },\n",
    "\n",
    "    '블랙핑크': {\n",
    "\n",
    "        '택시운전사': 3.0,\n",
    "\n",
    "        '겨울왕국': 3.5,\n",
    "\n",
    "        '리빙라스베가스': 1.5,\n",
    "\n",
    "        '넘버3': 5.0,\n",
    "\n",
    "        '세계대전': 3.0,\n",
    "\n",
    "        '사랑과전쟁': 3.5,\n",
    "\n",
    "    },\n",
    "\n",
    "    '소녀시대': {\n",
    "\n",
    "        '택시운전사': 2.5,\n",
    "\n",
    "        '겨울왕국': 3.0,\n",
    "\n",
    "        '넘버3': 3.5,\n",
    "\n",
    "        '세계대전': 4.0,\n",
    "\n",
    "    },\n",
    "\n",
    "    '마마무': {\n",
    "\n",
    "        '겨울왕국': 3.5,\n",
    "\n",
    "        '리빙라스베가스': 3.0,\n",
    "\n",
    "        '세계대전': 4.5,\n",
    "\n",
    "        '넘버3': 4.0,\n",
    "\n",
    "        '사랑과전쟁': 2.5,\n",
    "\n",
    "    },\n",
    "\n",
    "    '오마이걸': {\n",
    "\n",
    "        '택시운전사': 3.0,\n",
    "\n",
    "        '겨울왕국': 4.0,\n",
    "\n",
    "        '리빙라스베가스': 2.0,\n",
    "\n",
    "        '넘버3': 3.0,\n",
    "\n",
    "        '세계대전': 3.5,\n",
    "\n",
    "        '사랑과전쟁': 2.0,\n",
    "\n",
    "    },\n",
    "\n",
    "    '모모랜드': {\n",
    "\n",
    "        '택시운전사': 3.0,\n",
    "\n",
    "        '겨울왕국': 4.0,\n",
    "\n",
    "        '세계대전': 3.0,\n",
    "\n",
    "        '넘버3': 5.0,\n",
    "\n",
    "        '사랑과전쟁': 3.5,\n",
    "\n",
    "    },\n",
    "\n",
    "    '우주소녀': {'겨울왕국': 4.5, '사랑과전쟁': 1.0,\n",
    "\n",
    "             '넘버3': 4.0},\n",
    "\n",
    "}\n",
    "\n"
   ]
  },
  {
   "cell_type": "code",
   "execution_count": 5,
   "metadata": {},
   "outputs": [
    {
     "name": "stdout",
     "output_type": "stream",
     "text": [
      "마마무\n"
     ]
    }
   ],
   "source": [
    "dist=[]\n",
    "group=[]\n",
    "for c in critics:\n",
    "    if c=='소녀시대':\n",
    "        girls=critics.get(c)\n",
    "    else:\n",
    "        group.append(c)\n",
    "\n",
    "for c in critics:\n",
    "    d=0\n",
    "    if c!='소녀시대':\n",
    "        for m, s in critics.get(c).items():\n",
    "            for i, j in girls.items():\n",
    "                if m==i:\n",
    "                    d+=pow((j-s),2)\n",
    "    dist.append(sqrt(d))\n",
    "    \n",
    "print(group[dist.index(min(dist))])"
   ]
  }
 ],
 "metadata": {
  "kernelspec": {
   "display_name": "Python 3",
   "language": "python",
   "name": "python3"
  },
  "language_info": {
   "codemirror_mode": {
    "name": "ipython",
    "version": 3
   },
   "file_extension": ".py",
   "mimetype": "text/x-python",
   "name": "python",
   "nbconvert_exporter": "python",
   "pygments_lexer": "ipython3",
   "version": "3.7.6"
  }
 },
 "nbformat": 4,
 "nbformat_minor": 2
}
