{
 "cells": [
  {
   "cell_type": "code",
   "execution_count": 1,
   "metadata": {},
   "outputs": [],
   "source": [
    "import pandas as pd\n",
    "import numpy as np \n",
    "import matplotlib.pyplot as plt\n",
    "import gym\n",
    "from gym.envs.registration import register\n",
    "\n",
    "# 아래의 방식을 통해 게임을 등록함. 특히 is_slippery는 매우 중요함. \n",
    "\"\"\"\n",
    "- 새로운 게임 형식을 만들어줌.\n",
    "\"\"\"\n",
    "register(\n",
    "    id='FrozenLakeNotSlippery-v1',\n",
    "    entry_point='gym.envs.toy_text:FrozenLakeEnv',\n",
    "    kwargs={'map_name' : '4x4', 'is_slippery': False},\n",
    ")"
   ]
  },
  {
   "cell_type": "code",
   "execution_count": 2,
   "metadata": {},
   "outputs": [
    {
     "name": "stdout",
     "output_type": "stream",
     "text": [
      "  (Right)\n",
      "S\u001b[41mF\u001b[0mFF\n",
      "FHFH\n",
      "FFFH\n",
      "HFFG\n",
      "  (Right)\n",
      "SF\u001b[41mF\u001b[0mF\n",
      "FHFH\n",
      "FFFH\n",
      "HFFG\n",
      "  (Down)\n",
      "SFFF\n",
      "FH\u001b[41mF\u001b[0mH\n",
      "FFFH\n",
      "HFFG\n",
      "  (Down)\n",
      "SFFF\n",
      "FHFH\n",
      "FF\u001b[41mF\u001b[0mH\n",
      "HFFG\n",
      "  (Down)\n",
      "SFFF\n",
      "FHFH\n",
      "FFFH\n",
      "HF\u001b[41mF\u001b[0mG\n",
      "  (Right)\n",
      "SFFF\n",
      "FHFH\n",
      "FFFH\n",
      "HFF\u001b[41mG\u001b[0m\n",
      "done, reward: 1.0\n"
     ]
    }
   ],
   "source": [
    "env = gym.make(\"FrozenLakeNotSlippery-v1\")\n",
    "env.reset()\n",
    "\"\"\"\n",
    "0: left, 1: down, 2: right, 3: up \n",
    "\"\"\"\n",
    "complete_actions = [2, 2, 1, 1, 1, 2]\n",
    "for action in complete_actions:\n",
    "    #action = env.action_space.sample() # randomly select action \n",
    "    \"\"\"\n",
    "    - new_state: 액션을 취해서 새롭게 옮겨진 위치 \n",
    "    - reward: 보상을 얻었는지 여부\n",
    "    - done: 게임이 끝났는지 여부(hole에 빠지거나, )\n",
    "    \"\"\"\n",
    "    new_state, reward, done, _ = env.step(action)# action을 적용하고 업데이트\n",
    "    env.render() #현재 상황을 보여줌\n",
    "    if done is True:\n",
    "        print(\"done, reward: {}\".format(reward))"
   ]
  },
  {
   "cell_type": "code",
   "execution_count": 3,
   "metadata": {},
   "outputs": [
    {
     "name": "stdout",
     "output_type": "stream",
     "text": [
      "complete\n"
     ]
    },
    {
     "data": {
      "image/png": "[encoded data removed]",
      "text/plain": [
       "<Figure size 864x144 with 1 Axes>"
      ]
     },
     "metadata": {
      "needs_background": "light"
     },
     "output_type": "display_data"
    },
    {
     "name": "stdout",
     "output_type": "stream",
     "text": [
      "            left      down     right        up\n",
      "(0, 0)  0.941480  0.950990  0.950990  0.941480\n",
      "(0, 1)  0.941480  0.000000  0.960596  0.950990\n",
      "(0, 2)  0.950990  0.970299  0.950990  0.960596\n",
      "(0, 3)  0.960596  0.000000  0.950990  0.950990\n",
      "(1, 0)  0.950990  0.960596  0.000000  0.941480\n",
      "(1, 1)  0.000000  0.000000  0.000000  0.000000\n",
      "(1, 2)  0.000000  0.980100  0.000000  0.960596\n",
      "(1, 3)  0.000000  0.000000  0.000000  0.000000\n",
      "(2, 0)  0.960596  0.000000  0.970299  0.950990\n",
      "(2, 1)  0.960596  0.980100  0.980100  0.000000\n",
      "(2, 2)  0.970299  0.990000  0.000000  0.970299\n",
      "(2, 3)  0.000000  0.000000  0.000000  0.000000\n",
      "(3, 0)  0.000000  0.000000  0.000000  0.000000\n",
      "(3, 1)  0.000000  0.980100  0.990000  0.970299\n",
      "(3, 2)  0.980100  0.990000  1.000000  0.980100\n",
      "(3, 3)  0.000000  0.000000  0.000000  0.000000\n"
     ]
    }
   ],
   "source": [
    "env = gym.make(\"FrozenLakeNotSlippery-v1\")\n",
    "observation = env.reset()\n",
    "\n",
    "\"\"\"\n",
    "- Q는 개별 observation(현재 말의 위치)와 해당 obs에서 취할 수 있는 action별로 이득이 표현된 테이블입니다. \n",
    "- 뒤쪽에서 다시 설명되겠지만, 게임이 종료되었을 때 얻을 수 있는 reward가 앞으로 전달되어, 각 값을 업데이트해줍니다. \n",
    "\"\"\"\n",
    "Q = np.zeros([env.observation_space.n, env.action_space.n])\n",
    "\n",
    "num_episodes = 800 # 일종의 epoch, 혹은 라이프.\n",
    "decay_rate = 0.99 \n",
    "# reward는 전달 과정에서 누가 계속 까먹기 때문에, decay rate가 발생함. \n",
    "# 사실 맨 끝에서 얻은 Reward가 앞가지 전달되는데 아무런 변화가 없어야 한다는 것도, 직관적으로 이상하지 않나요? \n",
    "# 또한, 이렇게 모델링 해야, 짧은 path를 거쳐 지나온 놈의 경우에 step에서 높은 Q(partial reward)를 가짐 \n",
    "\n",
    "rlist = []\n",
    "for i in range(0, num_episodes):\n",
    "    state = env.reset()\n",
    "    e = 1. / ((i//100)+1)\n",
    "    \"\"\"\n",
    "    goal에 이르는 답이 여러가지일 수 있는데, 어느 정도의 랜덤성을 통해서 탐험을 하지 않을 경우, 초기의 답만을 가지게 됨. \n",
    "    사실 미로의 경우는 탐험을 통해 더 짧은 길을 찾을 수도 있습니다. \n",
    "    따라서, 여기서는 이미, 최적의 path를 찾았다고 해도 다시 더 좋은 path를 찾을 수 있도록 exploration을 보장합니다. \n",
    "    \"\"\"\n",
    "    #env.render()\n",
    "    rAll = 0 # 한 episode 별로 얻을 수 있는 reward의 총합\n",
    "    done = False # hole에 빠지거나, Goal에 도달하면 True\n",
    "    while not done:\n",
    "        if np.random.randn(1) < e: # 탐험을 통해더 좋은 길을 확보\n",
    "            # np.random.randn 은 norm(0, 1)\n",
    "            # 즉, 에피소드가 반복되어 e가 감소되어도, 대략 0.5 정도의 확률로 탐험을 하는 것이 가능해야 함. \n",
    "            action = env.action_space.sample()\n",
    "        else:\n",
    "            action = np.argmax(Q[state, :])\n",
    "        new_state, reward, done, _ = env.step(action)\n",
    "        # 다음 단계로 가서 리워드를 얻는 다면, 이전단계까지 잘 온 것이므로 이전 단계에도 리워드를 준다. \n",
    "        Q[state, action] = reward + decay_rate*np.max(Q[new_state, :])\n",
    "        rAll+=reward\n",
    "        state = new_state # state update\n",
    "    rlist.append(rAll)\n",
    "print('complete')\n",
    "plt.figure(figsize=(12, 2))\n",
    "plt.scatter(range(0, len(rlist)), rlist, marker='^', s=1, color='red')\n",
    "#plt.savefig('../../assets/images/markdown_img/180625_reinforcement_base.svg')\n",
    "plt.show()\n",
    "Q_df = pd.DataFrame(Q, index = [(i//4, i%4) for i in range(0, Q.shape[0])], \n",
    "                    columns=['left', 'down', 'right', 'up'])\n",
    "print(Q_df)"
   ]
  },
  {
   "cell_type": "code",
   "execution_count": null,
   "metadata": {},
   "outputs": [],
   "source": []
  }
 ],
 "metadata": {
  "kernelspec": {
   "display_name": "Python 3",
   "language": "python",
   "name": "python3"
  },
  "language_info": {
   "codemirror_mode": {
    "name": "ipython",
    "version": 3
   },
   "file_extension": ".py",
   "mimetype": "text/x-python",
   "name": "python",
   "nbconvert_exporter": "python",
   "pygments_lexer": "ipython3",
   "version": "3.7.6"
  }
 },
 "nbformat": 4,
 "nbformat_minor": 2
}
